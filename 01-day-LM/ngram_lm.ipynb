{
  "nbformat": 4,
  "nbformat_minor": 0,
  "metadata": {
    "colab": {
      "name": "ngram-lm.ipynb",
      "provenance": [],
      "include_colab_link": true
    },
    "kernelspec": {
      "display_name": "Python 3",
      "language": "python",
      "name": "python3"
    },
    "language_info": {
      "codemirror_mode": {
        "name": "ipython",
        "version": 3
      },
      "file_extension": ".py",
      "mimetype": "text/x-python",
      "name": "python",
      "nbconvert_exporter": "python",
      "pygments_lexer": "ipython3",
      "version": "3.5.3"
    },
    "widgets": {
      "application/vnd.jupyter.widget-state+json": {
        "3f9776c585fa4727a351bfa74eeffcd0": {
          "model_module": "@jupyter-widgets/controls",
          "model_name": "HBoxModel",
          "state": {
            "_view_name": "HBoxView",
            "_dom_classes": [],
            "_model_name": "HBoxModel",
            "_view_module": "@jupyter-widgets/controls",
            "_model_module_version": "1.5.0",
            "_view_count": null,
            "_view_module_version": "1.5.0",
            "box_style": "",
            "layout": "IPY_MODEL_eb7b932f014e41f784c9543987223787",
            "_model_module": "@jupyter-widgets/controls",
            "children": [
              "IPY_MODEL_b5123762337d4ba2bddeab429bb92770",
              "IPY_MODEL_fb64a390c8474c1491e4977ac4e89250"
            ]
          }
        },
        "eb7b932f014e41f784c9543987223787": {
          "model_module": "@jupyter-widgets/base",
          "model_name": "LayoutModel",
          "state": {
            "_view_name": "LayoutView",
            "grid_template_rows": null,
            "right": null,
            "justify_content": null,
            "_view_module": "@jupyter-widgets/base",
            "overflow": null,
            "_model_module_version": "1.2.0",
            "_view_count": null,
            "flex_flow": null,
            "width": null,
            "min_width": null,
            "border": null,
            "align_items": null,
            "bottom": null,
            "_model_module": "@jupyter-widgets/base",
            "top": null,
            "grid_column": null,
            "overflow_y": null,
            "overflow_x": null,
            "grid_auto_flow": null,
            "grid_area": null,
            "grid_template_columns": null,
            "flex": null,
            "_model_name": "LayoutModel",
            "justify_items": null,
            "grid_row": null,
            "max_height": null,
            "align_content": null,
            "visibility": null,
            "align_self": null,
            "height": null,
            "min_height": null,
            "padding": null,
            "grid_auto_rows": null,
            "grid_gap": null,
            "max_width": null,
            "order": null,
            "_view_module_version": "1.2.0",
            "grid_template_areas": null,
            "object_position": null,
            "object_fit": null,
            "grid_auto_columns": null,
            "margin": null,
            "display": null,
            "left": null
          }
        },
        "b5123762337d4ba2bddeab429bb92770": {
          "model_module": "@jupyter-widgets/controls",
          "model_name": "IntProgressModel",
          "state": {
            "_view_name": "ProgressView",
            "style": "IPY_MODEL_b133ca97acbf4ad0939ce4baa97eaa53",
            "_dom_classes": [],
            "description": "",
            "_model_name": "IntProgressModel",
            "bar_style": "success",
            "max": 1,
            "_view_module": "@jupyter-widgets/controls",
            "_model_module_version": "1.5.0",
            "value": 1,
            "_view_count": null,
            "_view_module_version": "1.5.0",
            "orientation": "horizontal",
            "min": 0,
            "description_tooltip": null,
            "_model_module": "@jupyter-widgets/controls",
            "layout": "IPY_MODEL_8c1ea56690dc490697b7ae62781b0d28"
          }
        },
        "fb64a390c8474c1491e4977ac4e89250": {
          "model_module": "@jupyter-widgets/controls",
          "model_name": "HTMLModel",
          "state": {
            "_view_name": "HTMLView",
            "style": "IPY_MODEL_9d3590027db347aa99946387ba5bffc7",
            "_dom_classes": [],
            "description": "",
            "_model_name": "HTMLModel",
            "placeholder": "​",
            "_view_module": "@jupyter-widgets/controls",
            "_model_module_version": "1.5.0",
            "value": " 107790/? [00:07&lt;00:00, 14196.46it/s]",
            "_view_count": null,
            "_view_module_version": "1.5.0",
            "description_tooltip": null,
            "_model_module": "@jupyter-widgets/controls",
            "layout": "IPY_MODEL_63a10078625244a9bb7a207cab526ac7"
          }
        },
        "b133ca97acbf4ad0939ce4baa97eaa53": {
          "model_module": "@jupyter-widgets/controls",
          "model_name": "ProgressStyleModel",
          "state": {
            "_view_name": "StyleView",
            "_model_name": "ProgressStyleModel",
            "description_width": "initial",
            "_view_module": "@jupyter-widgets/base",
            "_model_module_version": "1.5.0",
            "_view_count": null,
            "_view_module_version": "1.2.0",
            "bar_color": null,
            "_model_module": "@jupyter-widgets/controls"
          }
        },
        "8c1ea56690dc490697b7ae62781b0d28": {
          "model_module": "@jupyter-widgets/base",
          "model_name": "LayoutModel",
          "state": {
            "_view_name": "LayoutView",
            "grid_template_rows": null,
            "right": null,
            "justify_content": null,
            "_view_module": "@jupyter-widgets/base",
            "overflow": null,
            "_model_module_version": "1.2.0",
            "_view_count": null,
            "flex_flow": null,
            "width": null,
            "min_width": null,
            "border": null,
            "align_items": null,
            "bottom": null,
            "_model_module": "@jupyter-widgets/base",
            "top": null,
            "grid_column": null,
            "overflow_y": null,
            "overflow_x": null,
            "grid_auto_flow": null,
            "grid_area": null,
            "grid_template_columns": null,
            "flex": null,
            "_model_name": "LayoutModel",
            "justify_items": null,
            "grid_row": null,
            "max_height": null,
            "align_content": null,
            "visibility": null,
            "align_self": null,
            "height": null,
            "min_height": null,
            "padding": null,
            "grid_auto_rows": null,
            "grid_gap": null,
            "max_width": null,
            "order": null,
            "_view_module_version": "1.2.0",
            "grid_template_areas": null,
            "object_position": null,
            "object_fit": null,
            "grid_auto_columns": null,
            "margin": null,
            "display": null,
            "left": null
          }
        },
        "9d3590027db347aa99946387ba5bffc7": {
          "model_module": "@jupyter-widgets/controls",
          "model_name": "DescriptionStyleModel",
          "state": {
            "_view_name": "StyleView",
            "_model_name": "DescriptionStyleModel",
            "description_width": "",
            "_view_module": "@jupyter-widgets/base",
            "_model_module_version": "1.5.0",
            "_view_count": null,
            "_view_module_version": "1.2.0",
            "_model_module": "@jupyter-widgets/controls"
          }
        },
        "63a10078625244a9bb7a207cab526ac7": {
          "model_module": "@jupyter-widgets/base",
          "model_name": "LayoutModel",
          "state": {
            "_view_name": "LayoutView",
            "grid_template_rows": null,
            "right": null,
            "justify_content": null,
            "_view_module": "@jupyter-widgets/base",
            "overflow": null,
            "_model_module_version": "1.2.0",
            "_view_count": null,
            "flex_flow": null,
            "width": null,
            "min_width": null,
            "border": null,
            "align_items": null,
            "bottom": null,
            "_model_module": "@jupyter-widgets/base",
            "top": null,
            "grid_column": null,
            "overflow_y": null,
            "overflow_x": null,
            "grid_auto_flow": null,
            "grid_area": null,
            "grid_template_columns": null,
            "flex": null,
            "_model_name": "LayoutModel",
            "justify_items": null,
            "grid_row": null,
            "max_height": null,
            "align_content": null,
            "visibility": null,
            "align_self": null,
            "height": null,
            "min_height": null,
            "padding": null,
            "grid_auto_rows": null,
            "grid_gap": null,
            "max_width": null,
            "order": null,
            "_view_module_version": "1.2.0",
            "grid_template_areas": null,
            "object_position": null,
            "object_fit": null,
            "grid_auto_columns": null,
            "margin": null,
            "display": null,
            "left": null
          }
        },
        "9159baf3f8af406982cc8ee1d092d9b6": {
          "model_module": "@jupyter-widgets/controls",
          "model_name": "HBoxModel",
          "state": {
            "_view_name": "HBoxView",
            "_dom_classes": [],
            "_model_name": "HBoxModel",
            "_view_module": "@jupyter-widgets/controls",
            "_model_module_version": "1.5.0",
            "_view_count": null,
            "_view_module_version": "1.5.0",
            "box_style": "",
            "layout": "IPY_MODEL_0fdf1749cf234092ba811608cf3b0090",
            "_model_module": "@jupyter-widgets/controls",
            "children": [
              "IPY_MODEL_6795f6c1c0554eddac467e7a90180265",
              "IPY_MODEL_582267898b60437c878c72b755e5a2b8"
            ]
          }
        },
        "0fdf1749cf234092ba811608cf3b0090": {
          "model_module": "@jupyter-widgets/base",
          "model_name": "LayoutModel",
          "state": {
            "_view_name": "LayoutView",
            "grid_template_rows": null,
            "right": null,
            "justify_content": null,
            "_view_module": "@jupyter-widgets/base",
            "overflow": null,
            "_model_module_version": "1.2.0",
            "_view_count": null,
            "flex_flow": null,
            "width": null,
            "min_width": null,
            "border": null,
            "align_items": null,
            "bottom": null,
            "_model_module": "@jupyter-widgets/base",
            "top": null,
            "grid_column": null,
            "overflow_y": null,
            "overflow_x": null,
            "grid_auto_flow": null,
            "grid_area": null,
            "grid_template_columns": null,
            "flex": null,
            "_model_name": "LayoutModel",
            "justify_items": null,
            "grid_row": null,
            "max_height": null,
            "align_content": null,
            "visibility": null,
            "align_self": null,
            "height": null,
            "min_height": null,
            "padding": null,
            "grid_auto_rows": null,
            "grid_gap": null,
            "max_width": null,
            "order": null,
            "_view_module_version": "1.2.0",
            "grid_template_areas": null,
            "object_position": null,
            "object_fit": null,
            "grid_auto_columns": null,
            "margin": null,
            "display": null,
            "left": null
          }
        },
        "6795f6c1c0554eddac467e7a90180265": {
          "model_module": "@jupyter-widgets/controls",
          "model_name": "IntProgressModel",
          "state": {
            "_view_name": "ProgressView",
            "style": "IPY_MODEL_89d31b4ea79741269fd4ef2c1f539019",
            "_dom_classes": [],
            "description": "",
            "_model_name": "IntProgressModel",
            "bar_style": "success",
            "max": 1,
            "_view_module": "@jupyter-widgets/controls",
            "_model_module_version": "1.5.0",
            "value": 1,
            "_view_count": null,
            "_view_module_version": "1.5.0",
            "orientation": "horizontal",
            "min": 0,
            "description_tooltip": null,
            "_model_module": "@jupyter-widgets/controls",
            "layout": "IPY_MODEL_2f325e1e4fca4a73a1678e7c0fad6079"
          }
        },
        "582267898b60437c878c72b755e5a2b8": {
          "model_module": "@jupyter-widgets/controls",
          "model_name": "HTMLModel",
          "state": {
            "_view_name": "HTMLView",
            "style": "IPY_MODEL_8e2fa67e18554469bcfd500f65ee9a7b",
            "_dom_classes": [],
            "description": "",
            "_model_name": "HTMLModel",
            "placeholder": "​",
            "_view_module": "@jupyter-widgets/controls",
            "_model_module_version": "1.5.0",
            "value": " 15172/? [00:01&lt;00:00, 8825.18it/s]",
            "_view_count": null,
            "_view_module_version": "1.5.0",
            "description_tooltip": null,
            "_model_module": "@jupyter-widgets/controls",
            "layout": "IPY_MODEL_dec7653c88aa483fb21452a6c049b7d3"
          }
        },
        "89d31b4ea79741269fd4ef2c1f539019": {
          "model_module": "@jupyter-widgets/controls",
          "model_name": "ProgressStyleModel",
          "state": {
            "_view_name": "StyleView",
            "_model_name": "ProgressStyleModel",
            "description_width": "initial",
            "_view_module": "@jupyter-widgets/base",
            "_model_module_version": "1.5.0",
            "_view_count": null,
            "_view_module_version": "1.2.0",
            "bar_color": null,
            "_model_module": "@jupyter-widgets/controls"
          }
        },
        "2f325e1e4fca4a73a1678e7c0fad6079": {
          "model_module": "@jupyter-widgets/base",
          "model_name": "LayoutModel",
          "state": {
            "_view_name": "LayoutView",
            "grid_template_rows": null,
            "right": null,
            "justify_content": null,
            "_view_module": "@jupyter-widgets/base",
            "overflow": null,
            "_model_module_version": "1.2.0",
            "_view_count": null,
            "flex_flow": null,
            "width": null,
            "min_width": null,
            "border": null,
            "align_items": null,
            "bottom": null,
            "_model_module": "@jupyter-widgets/base",
            "top": null,
            "grid_column": null,
            "overflow_y": null,
            "overflow_x": null,
            "grid_auto_flow": null,
            "grid_area": null,
            "grid_template_columns": null,
            "flex": null,
            "_model_name": "LayoutModel",
            "justify_items": null,
            "grid_row": null,
            "max_height": null,
            "align_content": null,
            "visibility": null,
            "align_self": null,
            "height": null,
            "min_height": null,
            "padding": null,
            "grid_auto_rows": null,
            "grid_gap": null,
            "max_width": null,
            "order": null,
            "_view_module_version": "1.2.0",
            "grid_template_areas": null,
            "object_position": null,
            "object_fit": null,
            "grid_auto_columns": null,
            "margin": null,
            "display": null,
            "left": null
          }
        },
        "8e2fa67e18554469bcfd500f65ee9a7b": {
          "model_module": "@jupyter-widgets/controls",
          "model_name": "DescriptionStyleModel",
          "state": {
            "_view_name": "StyleView",
            "_model_name": "DescriptionStyleModel",
            "description_width": "",
            "_view_module": "@jupyter-widgets/base",
            "_model_module_version": "1.5.0",
            "_view_count": null,
            "_view_module_version": "1.2.0",
            "_model_module": "@jupyter-widgets/controls"
          }
        },
        "dec7653c88aa483fb21452a6c049b7d3": {
          "model_module": "@jupyter-widgets/base",
          "model_name": "LayoutModel",
          "state": {
            "_view_name": "LayoutView",
            "grid_template_rows": null,
            "right": null,
            "justify_content": null,
            "_view_module": "@jupyter-widgets/base",
            "overflow": null,
            "_model_module_version": "1.2.0",
            "_view_count": null,
            "flex_flow": null,
            "width": null,
            "min_width": null,
            "border": null,
            "align_items": null,
            "bottom": null,
            "_model_module": "@jupyter-widgets/base",
            "top": null,
            "grid_column": null,
            "overflow_y": null,
            "overflow_x": null,
            "grid_auto_flow": null,
            "grid_area": null,
            "grid_template_columns": null,
            "flex": null,
            "_model_name": "LayoutModel",
            "justify_items": null,
            "grid_row": null,
            "max_height": null,
            "align_content": null,
            "visibility": null,
            "align_self": null,
            "height": null,
            "min_height": null,
            "padding": null,
            "grid_auto_rows": null,
            "grid_gap": null,
            "max_width": null,
            "order": null,
            "_view_module_version": "1.2.0",
            "grid_template_areas": null,
            "object_position": null,
            "object_fit": null,
            "grid_auto_columns": null,
            "margin": null,
            "display": null,
            "left": null
          }
        }
      }
    }
  },
  "cells": [
    {
      "cell_type": "markdown",
      "metadata": {
        "id": "view-in-github",
        "colab_type": "text"
      },
      "source": [
        "<a href=\"https://colab.research.google.com/github/Kabongosalomon/ammi-2019-nlp/blob/master/01-day-LM/ngram_lm.ipynb\" target=\"_parent\"><img src=\"https://colab.research.google.com/assets/colab-badge.svg\" alt=\"Open In Colab\"/></a>"
      ]
    },
    {
      "cell_type": "markdown",
      "metadata": {
        "id": "pxqqEn-2di_D",
        "colab_type": "text"
      },
      "source": [
        "# Language Modeling\n",
        "\n",
        "### Goal: compute a probabilty distribution over all possible sentences:\n",
        "\n",
        "\n",
        "### $$p(W) = p(w_1, w_2, ..., w_T)$$\n",
        "\n",
        "### This unsupervised learning problem can be framed as a sequence of supervised learning problems:\n",
        "\n",
        "### $$p(W) = p(w_1) * p(w_2|w_1) * ... * p(w_T|w_1, ..., w_{T-1})$$\n",
        "\n",
        "### If we have K sentences, where the j-th sentence has T_j words for all j frmo 1 to K, then we want to max:\n",
        "\n",
        "### $$log p(W) = \\sum_{j = 1}^K \\sum_{i=1}^{T_j} log p(w_i | w_{<i})$$\n",
        "\n",
        "\n"
      ]
    },
    {
      "cell_type": "markdown",
      "metadata": {
        "id": "XvtQ0wJJdi_H",
        "colab_type": "text"
      },
      "source": [
        "# N-gram language model\n",
        "\n",
        "### Goal: estimate the n-gram probabilities using counts of sequences of n consecutive words\n",
        "\n",
        "### Given a sequence of words $w$, we want to compute\n",
        "\n",
        "###  $$P(w_i|w_{i−1}, w_{i−2}, …, w_{i−n+1})$$\n",
        "\n",
        "### Where $w_i$ is the i-th word of the sequence.\n",
        "\n",
        "### $$P(w_i|w_{i−n+1}, ..., w_{i−2}, w_{i−1}) = \\frac{p(w_{i−n+1}, ..., w_{i−2}, w_{i−1}, w_i)}{\\sum_{w \\in V} p(w_{i−n+1}, ..., w_{i−2}, w_{i−1}, w)}$$\n",
        "\n",
        "### Key Idea: We can estimate the probabilities using counts of n-grams in our dataset \n"
      ]
    },
    {
      "cell_type": "markdown",
      "metadata": {
        "id": "16hxXNq_di_L",
        "colab_type": "text"
      },
      "source": [
        "## N-gram Probabilities"
      ]
    },
    {
      "cell_type": "markdown",
      "metadata": {
        "id": "pUDGU_Jtdi_O",
        "colab_type": "text"
      },
      "source": [
        "## $$P(w_i|w_{i−n+1}, ..., w_{i−2}, w_{i−1}) \\approx \\frac{c(w_{i−n+1}, ..., w_{i−2}, w_{i−1}, w_i)}{\\sum_{w \\in V} c(w_{i−n+1}, ..., w_{i−2}, w_{i−1}, w)}$$\n"
      ]
    },
    {
      "cell_type": "markdown",
      "metadata": {
        "id": "pS6ukvypdi_Q",
        "colab_type": "text"
      },
      "source": [
        "## Bigram Probabilities\n",
        "\n",
        "## $$p(w_i | w_{i-1}) = \\frac{c(w_{i-1}, w_i)}{\\sum_{w_i} c(w_{i-1}, w_i)} $$\n"
      ]
    },
    {
      "cell_type": "code",
      "metadata": {
        "id": "bMYxnO4kdi_S",
        "colab_type": "code",
        "colab": {
          "base_uri": "https://localhost:8080/",
          "height": 435
        },
        "outputId": "dd63ebf0-ec0f-4df2-ce4e-c83f828dda96"
      },
      "source": [
        "!python -m spacy download en_core_web_sm"
      ],
      "execution_count": 1,
      "outputs": [
        {
          "output_type": "stream",
          "text": [
            "Requirement already satisfied: en_core_web_sm==2.2.5 from https://github.com/explosion/spacy-models/releases/download/en_core_web_sm-2.2.5/en_core_web_sm-2.2.5.tar.gz#egg=en_core_web_sm==2.2.5 in /usr/local/lib/python3.6/dist-packages (2.2.5)\n",
            "Requirement already satisfied: spacy>=2.2.2 in /usr/local/lib/python3.6/dist-packages (from en_core_web_sm==2.2.5) (2.2.4)\n",
            "Requirement already satisfied: thinc==7.4.0 in /usr/local/lib/python3.6/dist-packages (from spacy>=2.2.2->en_core_web_sm==2.2.5) (7.4.0)\n",
            "Requirement already satisfied: wasabi<1.1.0,>=0.4.0 in /usr/local/lib/python3.6/dist-packages (from spacy>=2.2.2->en_core_web_sm==2.2.5) (0.6.0)\n",
            "Requirement already satisfied: numpy>=1.15.0 in /usr/local/lib/python3.6/dist-packages (from spacy>=2.2.2->en_core_web_sm==2.2.5) (1.18.2)\n",
            "Requirement already satisfied: plac<1.2.0,>=0.9.6 in /usr/local/lib/python3.6/dist-packages (from spacy>=2.2.2->en_core_web_sm==2.2.5) (1.1.3)\n",
            "Requirement already satisfied: murmurhash<1.1.0,>=0.28.0 in /usr/local/lib/python3.6/dist-packages (from spacy>=2.2.2->en_core_web_sm==2.2.5) (1.0.2)\n",
            "Requirement already satisfied: cymem<2.1.0,>=2.0.2 in /usr/local/lib/python3.6/dist-packages (from spacy>=2.2.2->en_core_web_sm==2.2.5) (2.0.3)\n",
            "Requirement already satisfied: requests<3.0.0,>=2.13.0 in /usr/local/lib/python3.6/dist-packages (from spacy>=2.2.2->en_core_web_sm==2.2.5) (2.21.0)\n",
            "Requirement already satisfied: blis<0.5.0,>=0.4.0 in /usr/local/lib/python3.6/dist-packages (from spacy>=2.2.2->en_core_web_sm==2.2.5) (0.4.1)\n",
            "Requirement already satisfied: setuptools in /usr/local/lib/python3.6/dist-packages (from spacy>=2.2.2->en_core_web_sm==2.2.5) (46.0.0)\n",
            "Requirement already satisfied: tqdm<5.0.0,>=4.38.0 in /usr/local/lib/python3.6/dist-packages (from spacy>=2.2.2->en_core_web_sm==2.2.5) (4.38.0)\n",
            "Requirement already satisfied: srsly<1.1.0,>=1.0.2 in /usr/local/lib/python3.6/dist-packages (from spacy>=2.2.2->en_core_web_sm==2.2.5) (1.0.2)\n",
            "Requirement already satisfied: preshed<3.1.0,>=3.0.2 in /usr/local/lib/python3.6/dist-packages (from spacy>=2.2.2->en_core_web_sm==2.2.5) (3.0.2)\n",
            "Requirement already satisfied: catalogue<1.1.0,>=0.0.7 in /usr/local/lib/python3.6/dist-packages (from spacy>=2.2.2->en_core_web_sm==2.2.5) (1.0.0)\n",
            "Requirement already satisfied: urllib3<1.25,>=1.21.1 in /usr/local/lib/python3.6/dist-packages (from requests<3.0.0,>=2.13.0->spacy>=2.2.2->en_core_web_sm==2.2.5) (1.24.3)\n",
            "Requirement already satisfied: idna<2.9,>=2.5 in /usr/local/lib/python3.6/dist-packages (from requests<3.0.0,>=2.13.0->spacy>=2.2.2->en_core_web_sm==2.2.5) (2.8)\n",
            "Requirement already satisfied: chardet<3.1.0,>=3.0.2 in /usr/local/lib/python3.6/dist-packages (from requests<3.0.0,>=2.13.0->spacy>=2.2.2->en_core_web_sm==2.2.5) (3.0.4)\n",
            "Requirement already satisfied: certifi>=2017.4.17 in /usr/local/lib/python3.6/dist-packages (from requests<3.0.0,>=2.13.0->spacy>=2.2.2->en_core_web_sm==2.2.5) (2019.11.28)\n",
            "Requirement already satisfied: importlib-metadata>=0.20; python_version < \"3.8\" in /usr/local/lib/python3.6/dist-packages (from catalogue<1.1.0,>=0.0.7->spacy>=2.2.2->en_core_web_sm==2.2.5) (1.5.0)\n",
            "Requirement already satisfied: zipp>=0.5 in /usr/local/lib/python3.6/dist-packages (from importlib-metadata>=0.20; python_version < \"3.8\"->catalogue<1.1.0,>=0.0.7->spacy>=2.2.2->en_core_web_sm==2.2.5) (3.1.0)\n",
            "\u001b[38;5;2m✔ Download and installation successful\u001b[0m\n",
            "You can now load the model via spacy.load('en_core_web_sm')\n"
          ],
          "name": "stdout"
        }
      ]
    },
    {
      "cell_type": "code",
      "metadata": {
        "id": "DnmIvmg9d4BV",
        "colab_type": "code",
        "colab": {
          "base_uri": "https://localhost:8080/",
          "height": 259
        },
        "outputId": "75c0d41d-35fe-4474-c776-7db5b0624212"
      },
      "source": [
        "! git clone https://github.com/kyunghyuncho/ammi-2019-nlp.git\n",
        "%cd ammi-2019-nlp\n",
        "\n",
        "\n",
        "# some package to install \n",
        "\n",
        "!pip install altair\n",
        "!pip install pygtrie"
      ],
      "execution_count": 2,
      "outputs": [
        {
          "output_type": "stream",
          "text": [
            "fatal: destination path 'ammi-2019-nlp' already exists and is not an empty directory.\n",
            "/content/ammi-2019-nlp\n",
            "Requirement already satisfied: altair in /usr/local/lib/python3.6/dist-packages (4.0.1)\n",
            "Requirement already satisfied: jinja2 in /usr/local/lib/python3.6/dist-packages (from altair) (2.11.1)\n",
            "Requirement already satisfied: toolz in /usr/local/lib/python3.6/dist-packages (from altair) (0.10.0)\n",
            "Requirement already satisfied: entrypoints in /usr/local/lib/python3.6/dist-packages (from altair) (0.3)\n",
            "Requirement already satisfied: numpy in /usr/local/lib/python3.6/dist-packages (from altair) (1.18.2)\n",
            "Requirement already satisfied: pandas in /usr/local/lib/python3.6/dist-packages (from altair) (0.25.3)\n",
            "Requirement already satisfied: jsonschema in /usr/local/lib/python3.6/dist-packages (from altair) (2.6.0)\n",
            "Requirement already satisfied: MarkupSafe>=0.23 in /usr/local/lib/python3.6/dist-packages (from jinja2->altair) (1.1.1)\n",
            "Requirement already satisfied: python-dateutil>=2.6.1 in /usr/local/lib/python3.6/dist-packages (from pandas->altair) (2.8.1)\n",
            "Requirement already satisfied: pytz>=2017.2 in /usr/local/lib/python3.6/dist-packages (from pandas->altair) (2018.9)\n",
            "Requirement already satisfied: six>=1.5 in /usr/local/lib/python3.6/dist-packages (from python-dateutil>=2.6.1->pandas->altair) (1.12.0)\n",
            "Requirement already satisfied: pygtrie in /usr/local/lib/python3.6/dist-packages (2.3.2)\n"
          ],
          "name": "stdout"
        }
      ]
    },
    {
      "cell_type": "code",
      "metadata": {
        "id": "HJJ_EIxNdi_c",
        "colab_type": "code",
        "colab": {}
      },
      "source": [
        "import os\n",
        "import sys\n",
        "sys.path.append('utils/')\n",
        "from utils import ngram_utils as ngram_utils\n",
        "import utils.global_variables as gl\n",
        "import torch\n",
        "import random\n",
        "from utils.ngram_utils import NgramLM"
      ],
      "execution_count": 0,
      "outputs": []
    },
    {
      "cell_type": "code",
      "metadata": {
        "colab_type": "code",
        "id": "H20pktPiA63a",
        "outputId": "f0c252f1-8339-4f86-e9cd-4a45d24bff18",
        "colab": {
          "base_uri": "https://localhost:8080/",
          "height": 35
        }
      },
      "source": [
        "torch.manual_seed(1)"
      ],
      "execution_count": 4,
      "outputs": [
        {
          "output_type": "execute_result",
          "data": {
            "text/plain": [
              "<torch._C.Generator at 0x7fef8e89ae30>"
            ]
          },
          "metadata": {
            "tags": []
          },
          "execution_count": 4
        }
      ]
    },
    {
      "cell_type": "markdown",
      "metadata": {
        "id": "wI7M81LJdi_n",
        "colab_type": "text"
      },
      "source": [
        "### Load Data from .txt Files"
      ]
    },
    {
      "cell_type": "code",
      "metadata": {
        "id": "-TWeIoEQdi_q",
        "colab_type": "code",
        "colab": {}
      },
      "source": [
        "# Read data from .txt files and create lists of reviews\n",
        "\n",
        "train_data = []\n",
        "# create a list of all the reviews \n",
        "with open('./data/amazon_train.txt', 'r') as f:\n",
        "    train_data = [review for review in f.read().split('\\n') if review]\n",
        "    \n",
        "valid_data = []\n",
        "# create a list of all the reviews \n",
        "with open('./data/amazon_valid.txt', 'r') as f:\n",
        "    valid_data = [review for review in f.read().split('\\n') if review]\n",
        "    "
      ],
      "execution_count": 0,
      "outputs": []
    },
    {
      "cell_type": "code",
      "metadata": {
        "id": "MJ95rlGndi_x",
        "colab_type": "code",
        "colab": {}
      },
      "source": [
        "# type(train_data), len(train_data), \\\n",
        "# type(train_data[0]), len(train_data[0]), \\\n",
        "# type(train_data[0][0]), len(train_data[0][0])"
      ],
      "execution_count": 0,
      "outputs": []
    },
    {
      "cell_type": "code",
      "metadata": {
        "id": "yeCY9kNxdi_3",
        "colab_type": "code",
        "colab": {
          "base_uri": "https://localhost:8080/",
          "height": 89
        },
        "outputId": "978f5f66-25d0-42ec-b61c-66ff8ee0e6d0"
      },
      "source": [
        "train_data[0], train_data[0][0], len(train_data)\n"
      ],
      "execution_count": 7,
      "outputs": [
        {
          "output_type": "execute_result",
          "data": {
            "text/plain": [
              "(\"this is a great tutu and at a really great price . it doesn ' t look cheap at all . i ' m so glad i looked on amazon and found such an affordable tutu that isn ' t made poorly . a + + \",\n",
              " 't',\n",
              " 22288)"
            ]
          },
          "metadata": {
            "tags": []
          },
          "execution_count": 7
        }
      ]
    },
    {
      "cell_type": "markdown",
      "metadata": {
        "id": "FFIqO0lCdi_8",
        "colab_type": "text"
      },
      "source": [
        "### Process the Data"
      ]
    },
    {
      "cell_type": "code",
      "metadata": {
        "id": "IPIvTKQTdi_-",
        "colab_type": "code",
        "colab": {
          "base_uri": "https://localhost:8080/",
          "height": 115,
          "referenced_widgets": [
            "3f9776c585fa4727a351bfa74eeffcd0",
            "eb7b932f014e41f784c9543987223787",
            "b5123762337d4ba2bddeab429bb92770",
            "fb64a390c8474c1491e4977ac4e89250",
            "b133ca97acbf4ad0939ce4baa97eaa53",
            "8c1ea56690dc490697b7ae62781b0d28",
            "9d3590027db347aa99946387ba5bffc7",
            "63a10078625244a9bb7a207cab526ac7",
            "9159baf3f8af406982cc8ee1d092d9b6",
            "0fdf1749cf234092ba811608cf3b0090",
            "6795f6c1c0554eddac467e7a90180265",
            "582267898b60437c878c72b755e5a2b8",
            "89d31b4ea79741269fd4ef2c1f539019",
            "2f325e1e4fca4a73a1678e7c0fad6079",
            "8e2fa67e18554469bcfd500f65ee9a7b",
            "dec7653c88aa483fb21452a6c049b7d3"
          ]
        },
        "outputId": "6c5086d3-22e6-44e8-c4eb-d8e35a0dcfbb"
      },
      "source": [
        "# Tokenize the Datasets\n",
        "# TODO: this takes a really long time !! why?\n",
        "train_data_tokenized, all_tokens_train = ngram_utils.tokenize_dataset(train_data)\n",
        "valid_data_tokenized, all_tokens_valid = ngram_utils.tokenize_dataset(valid_data)\n"
      ],
      "execution_count": 8,
      "outputs": [
        {
          "output_type": "display_data",
          "data": {
            "application/vnd.jupyter.widget-view+json": {
              "model_id": "3f9776c585fa4727a351bfa74eeffcd0",
              "version_minor": 0,
              "version_major": 2
            },
            "text/plain": [
              "HBox(children=(IntProgress(value=1, bar_style='info', max=1), HTML(value='')))"
            ]
          },
          "metadata": {
            "tags": []
          }
        },
        {
          "output_type": "stream",
          "text": [
            "\n"
          ],
          "name": "stdout"
        },
        {
          "output_type": "display_data",
          "data": {
            "application/vnd.jupyter.widget-view+json": {
              "model_id": "9159baf3f8af406982cc8ee1d092d9b6",
              "version_minor": 0,
              "version_major": 2
            },
            "text/plain": [
              "HBox(children=(IntProgress(value=1, bar_style='info', max=1), HTML(value='')))"
            ]
          },
          "metadata": {
            "tags": []
          }
        },
        {
          "output_type": "stream",
          "text": [
            "\n"
          ],
          "name": "stdout"
        }
      ]
    },
    {
      "cell_type": "markdown",
      "metadata": {
        "id": "yviPk12ydjAE",
        "colab_type": "text"
      },
      "source": [
        "Let's look at the tokenized data!"
      ]
    },
    {
      "cell_type": "code",
      "metadata": {
        "id": "i76CnACidjAG",
        "colab_type": "code",
        "colab": {
          "base_uri": "https://localhost:8080/",
          "height": 242
        },
        "outputId": "ebae769d-473f-42d1-aa30-ede72e993b56"
      },
      "source": [
        "# # Number of All Tokens\n",
        "# len(all_tokens_train), all_tokens_train[0], \\\n",
        "len(train_data_tokenized), train_data_tokenized[0]"
      ],
      "execution_count": 9,
      "outputs": [
        {
          "output_type": "execute_result",
          "data": {
            "text/plain": [
              "(107790,\n",
              " ['this',\n",
              "  'is',\n",
              "  'a',\n",
              "  'great',\n",
              "  'tutu',\n",
              "  'and',\n",
              "  'at',\n",
              "  'a',\n",
              "  'really',\n",
              "  'great',\n",
              "  'price',\n",
              "  '.'])"
            ]
          },
          "metadata": {
            "tags": []
          },
          "execution_count": 9
        }
      ]
    },
    {
      "cell_type": "code",
      "metadata": {
        "id": "OYkh_VtxdjAO",
        "colab_type": "code",
        "colab": {}
      },
      "source": [
        "train_ngram_lm = NgramLM(train_data_tokenized, all_tokens_train, n=3, smoothing=None)\n",
        "valid_ngram_lm = NgramLM(valid_data_tokenized, all_tokens_valid, n=3, smoothing=None)"
      ],
      "execution_count": 0,
      "outputs": []
    },
    {
      "cell_type": "code",
      "metadata": {
        "id": "v5OZtWUYdjAT",
        "colab_type": "code",
        "colab": {
          "base_uri": "https://localhost:8080/",
          "height": 35
        },
        "outputId": "c1d396c2-1ff5-4768-db20-cb5a54c6b905"
      },
      "source": [
        "train_ngram_lm.trie_ngram['./<eos>/<eos>']"
      ],
      "execution_count": 11,
      "outputs": [
        {
          "output_type": "execute_result",
          "data": {
            "text/plain": [
              "96175"
            ]
          },
          "metadata": {
            "tags": []
          },
          "execution_count": 11
        }
      ]
    },
    {
      "cell_type": "code",
      "metadata": {
        "id": "rBWEHlCRdjAY",
        "colab_type": "code",
        "colab": {
          "base_uri": "https://localhost:8080/",
          "height": 35
        },
        "outputId": "67e0f343-415d-4ed7-f630-781b283f41aa"
      },
      "source": [
        "train_ngram_lm.n, train_ngram_lm.frac_vocab"
      ],
      "execution_count": 12,
      "outputs": [
        {
          "output_type": "execute_result",
          "data": {
            "text/plain": [
              "(3, 0.9)"
            ]
          },
          "metadata": {
            "tags": []
          },
          "execution_count": 12
        }
      ]
    },
    {
      "cell_type": "code",
      "metadata": {
        "id": "PWd_yfI3djAf",
        "colab_type": "code",
        "colab": {
          "base_uri": "https://localhost:8080/",
          "height": 35
        },
        "outputId": "039654f9-ab18-4738-a4ab-99b8599afbef"
      },
      "source": [
        "valid_ngram_lm.id2token[0:10]"
      ],
      "execution_count": 13,
      "outputs": [
        {
          "output_type": "execute_result",
          "data": {
            "text/plain": [
              "['<unk>', '<sos>', '<eos>', '.', 'the', 'i', ',', 'and', 'a', 'it']"
            ]
          },
          "metadata": {
            "tags": []
          },
          "execution_count": 13
        }
      ]
    },
    {
      "cell_type": "code",
      "metadata": {
        "id": "6_fl24SfdjAl",
        "colab_type": "code",
        "colab": {
          "base_uri": "https://localhost:8080/",
          "height": 35
        },
        "outputId": "1f610c25-e2bd-4789-e2d3-eb55c1cec76a"
      },
      "source": [
        "valid_ngram_lm.token2id['<unk>'], valid_ngram_lm.token2id['<sos>'], valid_ngram_lm.token2id['the']"
      ],
      "execution_count": 14,
      "outputs": [
        {
          "output_type": "execute_result",
          "data": {
            "text/plain": [
              "(0, 1, 4)"
            ]
          },
          "metadata": {
            "tags": []
          },
          "execution_count": 14
        }
      ]
    },
    {
      "cell_type": "code",
      "metadata": {
        "id": "AL0jmDu2djAs",
        "colab_type": "code",
        "colab": {
          "base_uri": "https://localhost:8080/",
          "height": 207
        },
        "outputId": "53109005-1476-4ac5-e8a2-81d6d3debdec"
      },
      "source": [
        "valid_ngram_lm.vocab_ngram[:10], valid_ngram_lm.count_ngram[:10]"
      ],
      "execution_count": 15,
      "outputs": [
        {
          "output_type": "execute_result",
          "data": {
            "text/plain": [
              "((('.', '<eos>', '<eos>'),\n",
              "  ('<sos>', '<sos>', 'i'),\n",
              "  ('<sos>', '<sos>', 'the'),\n",
              "  ('<sos>', '<sos>', 'it'),\n",
              "  ('!', '<eos>', '<eos>'),\n",
              "  ('<sos>', '<sos>', 'this'),\n",
              "  ('it', \"'\", 's'),\n",
              "  ('.', '.', '.'),\n",
              "  ('.', '.', '<eos>'),\n",
              "  ('<sos>', '<sos>', 'they')),\n",
              " (13625, 3635, 1425, 1100, 1049, 762, 687, 655, 580, 569))"
            ]
          },
          "metadata": {
            "tags": []
          },
          "execution_count": 15
        }
      ]
    },
    {
      "cell_type": "code",
      "metadata": {
        "id": "2fSUBHvVdjAx",
        "colab_type": "code",
        "colab": {
          "base_uri": "https://localhost:8080/",
          "height": 207
        },
        "outputId": "277d4cb8-5c4a-4753-b5a5-4afd508cd8ba"
      },
      "source": [
        "valid_ngram_lm.vocab_bigram[:10], valid_ngram_lm.count_bigram[:10]"
      ],
      "execution_count": 16,
      "outputs": [
        {
          "output_type": "execute_result",
          "data": {
            "text/plain": [
              "((('.', '<eos>'),\n",
              "  ('<sos>', 'i'),\n",
              "  ('<sos>', 'the'),\n",
              "  (\"'\", 't'),\n",
              "  (\"'\", 's'),\n",
              "  ('.', '.'),\n",
              "  ('<sos>', 'it'),\n",
              "  ('!', '<eos>'),\n",
              "  (',', 'and'),\n",
              "  (',', 'but')),\n",
              " (13625, 3635, 1425, 1261, 1249, 1238, 1100, 1049, 900, 838))"
            ]
          },
          "metadata": {
            "tags": []
          },
          "execution_count": 16
        }
      ]
    },
    {
      "cell_type": "code",
      "metadata": {
        "id": "xTxWG5jbdjA1",
        "colab_type": "code",
        "colab": {
          "base_uri": "https://localhost:8080/",
          "height": 207
        },
        "outputId": "240b979c-3d6a-4a95-fb4e-e21a83409a54"
      },
      "source": [
        "valid_ngram_lm.vocab_unigram[:10], valid_ngram_lm.count_unigram[:10]"
      ],
      "execution_count": 17,
      "outputs": [
        {
          "output_type": "execute_result",
          "data": {
            "text/plain": [
              "((('.',),\n",
              "  ('the',),\n",
              "  ('i',),\n",
              "  (',',),\n",
              "  ('and',),\n",
              "  ('a',),\n",
              "  ('it',),\n",
              "  ('to',),\n",
              "  (\"'\",),\n",
              "  ('is',)),\n",
              " (14883, 9408, 8000, 7525, 6226, 5774, 5085, 4550, 3816, 3695))"
            ]
          },
          "metadata": {
            "tags": []
          },
          "execution_count": 17
        }
      ]
    },
    {
      "cell_type": "code",
      "metadata": {
        "id": "Yd9Gc7x6djA5",
        "colab_type": "code",
        "colab": {
          "base_uri": "https://localhost:8080/",
          "height": 207
        },
        "outputId": "b7277a04-238d-4090-a4d5-e40e9463c0fe"
      },
      "source": [
        "valid_ngram_lm.vocab_prev_ngram[:10], valid_ngram_lm.count_prev_ngram[:10]"
      ],
      "execution_count": 18,
      "outputs": [
        {
          "output_type": "execute_result",
          "data": {
            "text/plain": [
              "((('.', '<eos>'),\n",
              "  ('<sos>', 'i'),\n",
              "  ('<sos>', 'the'),\n",
              "  (\"'\", 't'),\n",
              "  (\"'\", 's'),\n",
              "  ('.', '.'),\n",
              "  ('<sos>', 'it'),\n",
              "  ('!', '<eos>'),\n",
              "  (',', 'and'),\n",
              "  (',', 'but')),\n",
              " (13625, 3635, 1425, 1261, 1249, 1238, 1100, 1049, 900, 838))"
            ]
          },
          "metadata": {
            "tags": []
          },
          "execution_count": 18
        }
      ]
    },
    {
      "cell_type": "code",
      "metadata": {
        "id": "kyzIGQkVdjA-",
        "colab_type": "code",
        "colab": {
          "base_uri": "https://localhost:8080/",
          "height": 190
        },
        "outputId": "3e30df8a-5513-4772-ac12-520d113221ee"
      },
      "source": [
        "valid_ngram_lm.id2token_ngram[:10]"
      ],
      "execution_count": 19,
      "outputs": [
        {
          "output_type": "execute_result",
          "data": {
            "text/plain": [
              "[('.', '<eos>', '<eos>'),\n",
              " ('<sos>', '<sos>', 'i'),\n",
              " ('<sos>', '<sos>', 'the'),\n",
              " ('<sos>', '<sos>', 'it'),\n",
              " ('!', '<eos>', '<eos>'),\n",
              " ('<sos>', '<sos>', 'this'),\n",
              " ('it', \"'\", 's'),\n",
              " ('.', '.', '.'),\n",
              " ('.', '.', '<eos>'),\n",
              " ('<sos>', '<sos>', 'they')]"
            ]
          },
          "metadata": {
            "tags": []
          },
          "execution_count": 19
        }
      ]
    },
    {
      "cell_type": "code",
      "metadata": {
        "id": "ghKQ39sMdjBG",
        "colab_type": "code",
        "colab": {
          "base_uri": "https://localhost:8080/",
          "height": 35
        },
        "outputId": "72e91246-88b2-41ae-c057-5d59940f7d19"
      },
      "source": [
        "valid_ngram_lm.token2id_ngram[('.', '<eos>', '<eos>')], valid_ngram_lm.token2id_ngram[('.', '.', '<eos>')]"
      ],
      "execution_count": 20,
      "outputs": [
        {
          "output_type": "execute_result",
          "data": {
            "text/plain": [
              "(0, 8)"
            ]
          },
          "metadata": {
            "tags": []
          },
          "execution_count": 20
        }
      ]
    },
    {
      "cell_type": "markdown",
      "metadata": {
        "id": "NsnRuz-tdjBL",
        "colab_type": "text"
      },
      "source": [
        "#### Build the Vocabulary \n"
      ]
    },
    {
      "cell_type": "code",
      "metadata": {
        "id": "XJwZj8HzdjBM",
        "colab_type": "code",
        "colab": {
          "base_uri": "https://localhost:8080/",
          "height": 35
        },
        "outputId": "957871fb-9815-48b6-cc2f-e9356816a54c"
      },
      "source": [
        "# Build a vocabulary using all the tokens found in train data (90% of most common ones)\n",
        "print('Word vocabulary size: {} words'.format(len(train_ngram_lm.token2id)))        "
      ],
      "execution_count": 21,
      "outputs": [
        {
          "output_type": "stream",
          "text": [
            "Word vocabulary size: 20806 words\n"
          ],
          "name": "stdout"
        }
      ]
    },
    {
      "cell_type": "markdown",
      "metadata": {
        "id": "LdrxatCzdjBS",
        "colab_type": "text"
      },
      "source": [
        "### CORPUS ANALYSIS (Train + Valid Data)"
      ]
    },
    {
      "cell_type": "markdown",
      "metadata": {
        "id": "HxgpyhGzdjBU",
        "colab_type": "text"
      },
      "source": [
        "#### Number of Tokens in the Corpus Data\n"
      ]
    },
    {
      "cell_type": "code",
      "metadata": {
        "id": "02NPj8z5djBV",
        "colab_type": "code",
        "colab": {
          "base_uri": "https://localhost:8080/",
          "height": 35
        },
        "outputId": "9c6e1fe0-07d3-4f46-99ce-bb5d1b1331bf"
      },
      "source": [
        "print(\"Number of All Tokens \", len(all_tokens_train))"
      ],
      "execution_count": 22,
      "outputs": [
        {
          "output_type": "stream",
          "text": [
            "Number of All Tokens  1623446\n"
          ],
          "name": "stdout"
        }
      ]
    },
    {
      "cell_type": "markdown",
      "metadata": {
        "id": "3WNQyxpLdjBZ",
        "colab_type": "text"
      },
      "source": [
        "#### Number of Sentences in the Train Data\n"
      ]
    },
    {
      "cell_type": "code",
      "metadata": {
        "id": "he4R7QrYdjBb",
        "colab_type": "code",
        "colab": {
          "base_uri": "https://localhost:8080/",
          "height": 35
        },
        "outputId": "8f242301-4249-44d8-fa6e-10ce5ca1b36a"
      },
      "source": [
        "print(\"Number of Sentences \", len(train_ngram_lm.raw_data))"
      ],
      "execution_count": 23,
      "outputs": [
        {
          "output_type": "stream",
          "text": [
            "Number of Sentences  107790\n"
          ],
          "name": "stdout"
        }
      ]
    },
    {
      "cell_type": "markdown",
      "metadata": {
        "id": "2YzK-J-7djBf",
        "colab_type": "text"
      },
      "source": [
        "## N-grams"
      ]
    },
    {
      "cell_type": "code",
      "metadata": {
        "id": "9cj0FKXpdjBg",
        "colab_type": "code",
        "colab": {}
      },
      "source": [
        "n = 3 # trigrams"
      ],
      "execution_count": 0,
      "outputs": []
    },
    {
      "cell_type": "markdown",
      "metadata": {
        "id": "_P1rNcPodjBm",
        "colab_type": "text"
      },
      "source": [
        "### Function for padding the sentences with special markers sentence beginning and end, i.e. $<bos>$ and $<eos>$"
      ]
    },
    {
      "cell_type": "code",
      "metadata": {
        "id": "JAT8lahndjBo",
        "colab_type": "code",
        "colab": {}
      },
      "source": [
        "train_padded = train_ngram_lm.padded_data\n",
        "train_ngram = train_ngram_lm.ngram_data\n",
        "vocab_ngram = train_ngram_lm.vocab_ngram\n",
        "count_ngram = train_ngram_lm.count_ngram "
      ],
      "execution_count": 0,
      "outputs": []
    },
    {
      "cell_type": "code",
      "metadata": {
        "id": "q7xtb82DdjBu",
        "colab_type": "code",
        "colab": {
          "base_uri": "https://localhost:8080/",
          "height": 294
        },
        "outputId": "3530b995-8215-46c4-e9c4-92530510cf00"
      },
      "source": [
        "train_padded[0]"
      ],
      "execution_count": 26,
      "outputs": [
        {
          "output_type": "execute_result",
          "data": {
            "text/plain": [
              "['<sos>',\n",
              " '<sos>',\n",
              " 'this',\n",
              " 'is',\n",
              " 'a',\n",
              " 'great',\n",
              " 'tutu',\n",
              " 'and',\n",
              " 'at',\n",
              " 'a',\n",
              " 'really',\n",
              " 'great',\n",
              " 'price',\n",
              " '.',\n",
              " '<eos>',\n",
              " '<eos>']"
            ]
          },
          "metadata": {
            "tags": []
          },
          "execution_count": 26
        }
      ]
    },
    {
      "cell_type": "markdown",
      "metadata": {
        "id": "FivzoepYdjB3",
        "colab_type": "text"
      },
      "source": [
        "### Function for finding all N-grams"
      ]
    },
    {
      "cell_type": "code",
      "metadata": {
        "id": "27_jPzjqdjB4",
        "colab_type": "code",
        "colab": {
          "base_uri": "https://localhost:8080/",
          "height": 259
        },
        "outputId": "7e2a5ffb-dc69-4d37-ff03-d9acb5e049ee"
      },
      "source": [
        "train_ngram[0]"
      ],
      "execution_count": 27,
      "outputs": [
        {
          "output_type": "execute_result",
          "data": {
            "text/plain": [
              "[('<sos>', '<sos>', 'this'),\n",
              " ('<sos>', 'this', 'is'),\n",
              " ('this', 'is', 'a'),\n",
              " ('is', 'a', 'great'),\n",
              " ('a', 'great', 'tutu'),\n",
              " ('great', 'tutu', 'and'),\n",
              " ('tutu', 'and', 'at'),\n",
              " ('and', 'at', 'a'),\n",
              " ('at', 'a', 'really'),\n",
              " ('a', 'really', 'great'),\n",
              " ('really', 'great', 'price'),\n",
              " ('great', 'price', '.'),\n",
              " ('price', '.', '<eos>'),\n",
              " ('.', '<eos>', '<eos>')]"
            ]
          },
          "metadata": {
            "tags": []
          },
          "execution_count": 27
        }
      ]
    },
    {
      "cell_type": "code",
      "metadata": {
        "id": "XesU3dPMdjB-",
        "colab_type": "code",
        "colab": {
          "base_uri": "https://localhost:8080/",
          "height": 35
        },
        "outputId": "dbb6b7e2-86fe-4db3-d32a-43c1ce054992"
      },
      "source": [
        "vocab_ngram[0]"
      ],
      "execution_count": 28,
      "outputs": [
        {
          "output_type": "execute_result",
          "data": {
            "text/plain": [
              "('.', '<eos>', '<eos>')"
            ]
          },
          "metadata": {
            "tags": []
          },
          "execution_count": 28
        }
      ]
    },
    {
      "cell_type": "code",
      "metadata": {
        "id": "KaYHnCm3djCF",
        "colab_type": "code",
        "colab": {
          "base_uri": "https://localhost:8080/",
          "height": 35
        },
        "outputId": "5ef25812-7c97-4f84-f156-a52283508dc4"
      },
      "source": [
        "count_ngram[0]"
      ],
      "execution_count": 29,
      "outputs": [
        {
          "output_type": "execute_result",
          "data": {
            "text/plain": [
              "96175"
            ]
          },
          "metadata": {
            "tags": []
          },
          "execution_count": 29
        }
      ]
    },
    {
      "cell_type": "code",
      "metadata": {
        "id": "-ymlU7uPdjCM",
        "colab_type": "code",
        "colab": {}
      },
      "source": [
        "trie_ngram = train_ngram_lm.trie_ngram\n",
        "# trie_ngram\n",
        "# trie_prev_ngram = train_ngram_lm.trie_prev_ngram"
      ],
      "execution_count": 0,
      "outputs": []
    },
    {
      "cell_type": "code",
      "metadata": {
        "id": "gLhV0zxudjCR",
        "colab_type": "code",
        "colab": {
          "base_uri": "https://localhost:8080/",
          "height": 35
        },
        "outputId": "e61870f5-8cc8-4b93-8834-740c8af56ab2"
      },
      "source": [
        "trie_ngram['./<eos>/<eos>']"
      ],
      "execution_count": 31,
      "outputs": [
        {
          "output_type": "execute_result",
          "data": {
            "text/plain": [
              "96175"
            ]
          },
          "metadata": {
            "tags": []
          },
          "execution_count": 31
        }
      ]
    },
    {
      "cell_type": "code",
      "metadata": {
        "id": "Zylq9__vdjCW",
        "colab_type": "code",
        "colab": {}
      },
      "source": [
        "id2token = train_ngram_lm.id2token\n",
        "token2id = train_ngram_lm.token2id"
      ],
      "execution_count": 0,
      "outputs": []
    },
    {
      "cell_type": "code",
      "metadata": {
        "id": "zc9uR3J7djCa",
        "colab_type": "code",
        "colab": {}
      },
      "source": [
        "id2token_ngram = train_ngram_lm.id2token_ngram\n",
        "token2id_ngram = train_ngram_lm.token2id_ngram"
      ],
      "execution_count": 0,
      "outputs": []
    },
    {
      "cell_type": "code",
      "metadata": {
        "id": "Zjl8FJbldjCf",
        "colab_type": "code",
        "colab": {
          "base_uri": "https://localhost:8080/",
          "height": 52
        },
        "outputId": "ad2ba9e0-f6ec-46c5-bf51-7a5f5e0db6b2"
      },
      "source": [
        "random_token_id = random.randint(0, len(id2token_ngram) - 1)\n",
        "random_token = id2token_ngram[random_token_id]\n",
        "\n",
        "print (\"Token id {} ; token {}\".format(random_token_id, id2token_ngram[random_token_id]))\n",
        "print (\"Token {}; token id {}\".format(random_token, token2id_ngram[random_token]))"
      ],
      "execution_count": 34,
      "outputs": [
        {
          "output_type": "stream",
          "text": [
            "Token id 74157 ; token ('whole', 'time', '.')\n",
            "Token ('whole', 'time', '.'); token id 74157\n"
          ],
          "name": "stdout"
        }
      ]
    },
    {
      "cell_type": "markdown",
      "metadata": {
        "id": "rgSpb0f8djCk",
        "colab_type": "text"
      },
      "source": [
        "### Ngram Count & Probability"
      ]
    },
    {
      "cell_type": "code",
      "metadata": {
        "id": "teH4Uv3bdjCn",
        "colab_type": "code",
        "colab": {}
      },
      "source": [
        "# TODO: print the words for which the pd is nonzero !!! -- more intuitive than a list of numbers"
      ],
      "execution_count": 0,
      "outputs": []
    },
    {
      "cell_type": "code",
      "metadata": {
        "id": "oNQ5Z-m-djCr",
        "colab_type": "code",
        "colab": {
          "base_uri": "https://localhost:8080/",
          "height": 207
        },
        "outputId": "193acc5d-c192-4c13-81b7-5ee77b2bb98d"
      },
      "source": [
        "vocab_ngram[:10], count_ngram[:10]"
      ],
      "execution_count": 36,
      "outputs": [
        {
          "output_type": "execute_result",
          "data": {
            "text/plain": [
              "((('.', '<eos>', '<eos>'),\n",
              "  ('<sos>', '<sos>', 'i'),\n",
              "  ('<sos>', '<sos>', 'the'),\n",
              "  ('!', '<eos>', '<eos>'),\n",
              "  ('<sos>', '<sos>', 'they'),\n",
              "  ('<sos>', '<sos>', 'it'),\n",
              "  ('.', '.', '.'),\n",
              "  ('<sos>', '<sos>', 'this'),\n",
              "  ('<sos>', '<sos>', 'these'),\n",
              "  ('.', '.', '<eos>')),\n",
              " (96175, 26986, 9197, 8152, 6376, 5373, 4693, 4189, 3941, 3876))"
            ]
          },
          "metadata": {
            "tags": []
          },
          "execution_count": 36
        }
      ]
    },
    {
      "cell_type": "code",
      "metadata": {
        "id": "XA33Aqy2djCv",
        "colab_type": "code",
        "colab": {}
      },
      "source": [
        ""
      ],
      "execution_count": 0,
      "outputs": []
    },
    {
      "cell_type": "code",
      "metadata": {
        "id": "ENAiUwVEdjC2",
        "colab_type": "code",
        "colab": {
          "base_uri": "https://localhost:8080/",
          "height": 35
        },
        "outputId": "5b589db2-3c8b-4448-a806-cf0111f37deb"
      },
      "source": [
        "c = train_ngram_lm.get_ngram_count(('an', 'older', 'coat'))\n",
        "p = train_ngram_lm.get_ngram_prob(('an', 'older', 'coat'))\n",
        "\n",
        "p1 = train_ngram_lm.get_ngram_prob(('an', 'older', 'pc'))\n",
        "p2 = train_ngram_lm.get_ngram_prob(('an', 'older', 'lady'))\n",
        "p3 = train_ngram_lm.get_ngram_prob(('an', 'older', 'watch'))\n",
        "\n",
        "pd = train_ngram_lm.get_prob_distr_ngram(('an', 'older'))\n",
        "\n",
        "c, p, p1, p2, p3, sum(pd)#, pd"
      ],
      "execution_count": 37,
      "outputs": [
        {
          "output_type": "execute_result",
          "data": {
            "text/plain": [
              "(1, 0.04, 0.04, 0.04, 0.0, 1.0)"
            ]
          },
          "metadata": {
            "tags": []
          },
          "execution_count": 37
        }
      ]
    },
    {
      "cell_type": "code",
      "metadata": {
        "id": "5iVbchPEdjC8",
        "colab_type": "code",
        "colab": {
          "base_uri": "https://localhost:8080/",
          "height": 35
        },
        "outputId": "9a357e03-998e-495c-a030-af5a3825e68d"
      },
      "source": [
        "c = train_ngram_lm.get_ngram_count(('really', 'great', 'price'))\n",
        "p = train_ngram_lm.get_ngram_prob(('really', 'great', 'price'))\n",
        "pd = train_ngram_lm.get_prob_distr_ngram(('really', 'great'))\n",
        "\n",
        "c, p, sum(pd)#, pd "
      ],
      "execution_count": 38,
      "outputs": [
        {
          "output_type": "execute_result",
          "data": {
            "text/plain": [
              "(3, 0.06521739130434782, 1.0)"
            ]
          },
          "metadata": {
            "tags": []
          },
          "execution_count": 38
        }
      ]
    },
    {
      "cell_type": "code",
      "metadata": {
        "id": "SbpcMofodjDA",
        "colab_type": "code",
        "colab": {
          "base_uri": "https://localhost:8080/",
          "height": 35
        },
        "outputId": "52563a33-32a2-4a9c-d894-08b55d3cf474"
      },
      "source": [
        "c = train_ngram_lm.get_ngram_count(('really', 'great'))\n",
        "\n",
        "c"
      ],
      "execution_count": 39,
      "outputs": [
        {
          "output_type": "execute_result",
          "data": {
            "text/plain": [
              "0"
            ]
          },
          "metadata": {
            "tags": []
          },
          "execution_count": 39
        }
      ]
    },
    {
      "cell_type": "code",
      "metadata": {
        "id": "h4KS70zkdjDF",
        "colab_type": "code",
        "colab": {
          "base_uri": "https://localhost:8080/",
          "height": 35
        },
        "outputId": "bc90f9ef-e7c2-4f7e-f5f5-3a707b97d3a8"
      },
      "source": [
        "c = train_ngram_lm.get_ngram_count(('.', '<eos>', '<eos>'))\n",
        "p = train_ngram_lm.get_ngram_prob(('.', '<eos>', '<eos>'))\n",
        "pd = train_ngram_lm.get_prob_distr_ngram(('.', '<eos>'))\n",
        "\n",
        "c, p, sum(pd)#, pd"
      ],
      "execution_count": 40,
      "outputs": [
        {
          "output_type": "execute_result",
          "data": {
            "text/plain": [
              "(96175, 1.0, 1.0)"
            ]
          },
          "metadata": {
            "tags": []
          },
          "execution_count": 40
        }
      ]
    },
    {
      "cell_type": "code",
      "metadata": {
        "id": "SpwGPhg8djDK",
        "colab_type": "code",
        "colab": {
          "base_uri": "https://localhost:8080/",
          "height": 35
        },
        "outputId": "8110cf09-03fb-4dba-b897-310e016705f1"
      },
      "source": [
        "c = train_ngram_lm.get_ngram_count(('.', '<sos>', '<sos>'))\n",
        "\n",
        "c"
      ],
      "execution_count": 41,
      "outputs": [
        {
          "output_type": "execute_result",
          "data": {
            "text/plain": [
              "0"
            ]
          },
          "metadata": {
            "tags": []
          },
          "execution_count": 41
        }
      ]
    },
    {
      "cell_type": "code",
      "metadata": {
        "id": "9pXTepy_djDO",
        "colab_type": "code",
        "colab": {
          "base_uri": "https://localhost:8080/",
          "height": 35
        },
        "outputId": "f759f036-6033-4200-e951-221bed22226a"
      },
      "source": [
        "c = train_ngram_lm.get_ngram_count(('i', 'like', 'pandas'))\n",
        "p = train_ngram_lm.get_ngram_count(('i', 'like', 'pandas'))\n",
        "pd = train_ngram_lm.get_prob_distr_ngram(('i', 'like'))\n",
        "\n",
        "c, p, sum(pd)#, pd"
      ],
      "execution_count": 42,
      "outputs": [
        {
          "output_type": "execute_result",
          "data": {
            "text/plain": [
              "(0, 0, 0.9999999999999897)"
            ]
          },
          "metadata": {
            "tags": []
          },
          "execution_count": 42
        }
      ]
    },
    {
      "cell_type": "code",
      "metadata": {
        "id": "ik55OVfKdjDU",
        "colab_type": "code",
        "colab": {
          "base_uri": "https://localhost:8080/",
          "height": 35
        },
        "outputId": "9cf3116f-7bc4-47bb-ad7d-257013bed19f"
      },
      "source": [
        "c = train_ngram_lm.get_ngram_count(('is', 'a', 'great'))\n",
        "p = train_ngram_lm.get_ngram_prob(('is', 'a', 'great'))\n",
        "pd = train_ngram_lm.get_prob_distr_ngram(('is', 'a'))\n",
        "\n",
        "c, p, sum(pd)#, pd"
      ],
      "execution_count": 43,
      "outputs": [
        {
          "output_type": "execute_result",
          "data": {
            "text/plain": [
              "(266, 0.09761467889908257, 1.0000000000000142)"
            ]
          },
          "metadata": {
            "tags": []
          },
          "execution_count": 43
        }
      ]
    },
    {
      "cell_type": "code",
      "metadata": {
        "id": "uNmsouXmdjDY",
        "colab_type": "code",
        "colab": {
          "base_uri": "https://localhost:8080/",
          "height": 35
        },
        "outputId": "6951e858-6efa-49c4-a697-7cd355be409a"
      },
      "source": [
        "c = train_ngram_lm.get_ngram_count(('send', 'it', 'back'))\n",
        "p = train_ngram_lm.get_ngram_prob(('send', 'it', 'back'))\n",
        "pd = train_ngram_lm.get_prob_distr_ngram(('send', 'it', 'back'))\n",
        "\n",
        "c, p, sum(pd)#, pd"
      ],
      "execution_count": 44,
      "outputs": [
        {
          "output_type": "execute_result",
          "data": {
            "text/plain": [
              "(28, 0.9032258064516129, 1.0000000000000657)"
            ]
          },
          "metadata": {
            "tags": []
          },
          "execution_count": 44
        }
      ]
    },
    {
      "cell_type": "code",
      "metadata": {
        "id": "DiIETwaPdjDb",
        "colab_type": "code",
        "colab": {
          "base_uri": "https://localhost:8080/",
          "height": 35
        },
        "outputId": "1e9191c7-133f-456f-9bd4-5731e0d7bd41"
      },
      "source": [
        "c = train_ngram_lm.get_ngram_count(('i', 'like', 'these', 'pictures'))\n",
        "p = train_ngram_lm.get_ngram_prob(('i', 'like', 'these', 'pictures'))\n",
        "pd = train_ngram_lm.get_prob_distr_ngram(('i', 'like', 'these'))\n",
        "\n",
        "c, p, sum(pd)#, pd"
      ],
      "execution_count": 45,
      "outputs": [
        {
          "output_type": "execute_result",
          "data": {
            "text/plain": [
              "(0, 0, 1.0000000000000657)"
            ]
          },
          "metadata": {
            "tags": []
          },
          "execution_count": 45
        }
      ]
    },
    {
      "cell_type": "markdown",
      "metadata": {
        "id": "p62PNunYdjDg",
        "colab_type": "text"
      },
      "source": [
        "## Add-One Smoothing"
      ]
    },
    {
      "cell_type": "markdown",
      "metadata": {
        "id": "RNbNhB1NdjDh",
        "colab_type": "text"
      },
      "source": [
        "## $$P(w_i|w_{i−n+1}, ..., w_{i−2}, w_{i−1}) \\approx \\frac{1 + c(w_{i−n+1}, ..., w_{i−2}, w_{i−1}, w_i)}{\\mid V\\mid + \\sum_{w \\in V} c(w_{i−n+1}, ..., w_{i−2}, w_{i−1}, w)}$$\n"
      ]
    },
    {
      "cell_type": "code",
      "metadata": {
        "id": "8ozhaUc3djDi",
        "colab_type": "code",
        "colab": {
          "base_uri": "https://localhost:8080/",
          "height": 35
        },
        "outputId": "00077fd2-3e42-4c41-df33-7a71c82c5a04"
      },
      "source": [
        "p = train_ngram_lm.get_ngram_prob_add_one_smoothing(('.', '<sos>', '<sos>'))\n",
        "p"
      ],
      "execution_count": 46,
      "outputs": [
        {
          "output_type": "execute_result",
          "data": {
            "text/plain": [
              "4.806305873305777e-05"
            ]
          },
          "metadata": {
            "tags": []
          },
          "execution_count": 46
        }
      ]
    },
    {
      "cell_type": "code",
      "metadata": {
        "id": "DwVGT7QVdjDo",
        "colab_type": "code",
        "colab": {
          "base_uri": "https://localhost:8080/",
          "height": 35
        },
        "outputId": "0b6e4bea-1d96-431a-c28b-41b7631dcc44"
      },
      "source": [
        "p = train_ngram_lm.get_ngram_prob_add_one_smoothing(('i', 'like', 'pandas'))\n",
        "p"
      ],
      "execution_count": 47,
      "outputs": [
        {
          "output_type": "execute_result",
          "data": {
            "text/plain": [
              "4.504098729844158e-05"
            ]
          },
          "metadata": {
            "tags": []
          },
          "execution_count": 47
        }
      ]
    },
    {
      "cell_type": "code",
      "metadata": {
        "id": "52O-R3d_djDs",
        "colab_type": "code",
        "colab": {
          "base_uri": "https://localhost:8080/",
          "height": 35
        },
        "outputId": "4cb713ca-8072-4949-ee62-8c08f363fb17"
      },
      "source": [
        "p = train_ngram_lm.get_ngram_prob_add_one_smoothing(('i', 'like', 'this'))\n",
        "p"
      ],
      "execution_count": 48,
      "outputs": [
        {
          "output_type": "execute_result",
          "data": {
            "text/plain": [
              "0.004323934780650392"
            ]
          },
          "metadata": {
            "tags": []
          },
          "execution_count": 48
        }
      ]
    },
    {
      "cell_type": "code",
      "metadata": {
        "id": "Ilot3KlpdjDv",
        "colab_type": "code",
        "colab": {
          "base_uri": "https://localhost:8080/",
          "height": 35
        },
        "outputId": "851cc161-d7a0-4d86-ce37-c555edfc32aa"
      },
      "source": [
        "p = train_ngram_lm.get_ngram_prob_add_one_smoothing(('really', 'great', 'price'))\n",
        "p"
      ],
      "execution_count": 49,
      "outputs": [
        {
          "output_type": "execute_result",
          "data": {
            "text/plain": [
              "0.0001918281220026856"
            ]
          },
          "metadata": {
            "tags": []
          },
          "execution_count": 49
        }
      ]
    },
    {
      "cell_type": "code",
      "metadata": {
        "id": "IDCJgKxpdjDy",
        "colab_type": "code",
        "colab": {
          "base_uri": "https://localhost:8080/",
          "height": 35
        },
        "outputId": "f66658a0-6302-4adf-d283-b83a7bc8bdca"
      },
      "source": [
        "p = train_ngram_lm.get_ngram_prob_add_one_smoothing(('send', 'it', 'back'))\n",
        "p"
      ],
      "execution_count": 51,
      "outputs": [
        {
          "output_type": "execute_result",
          "data": {
            "text/plain": [
              "0.0013917550511110045"
            ]
          },
          "metadata": {
            "tags": []
          },
          "execution_count": 51
        }
      ]
    },
    {
      "cell_type": "code",
      "metadata": {
        "id": "lFzSt_etdjD3",
        "colab_type": "code",
        "colab": {
          "base_uri": "https://localhost:8080/",
          "height": 35
        },
        "outputId": "2b24a79e-e2ff-496c-bd6b-3e18ff146848"
      },
      "source": [
        "p = train_ngram_lm.get_ngram_prob_add_one_smoothing(('.', '<eos>', '<eos>'))\n",
        "p"
      ],
      "execution_count": 50,
      "outputs": [
        {
          "output_type": "execute_result",
          "data": {
            "text/plain": [
              "0.8221506056539096"
            ]
          },
          "metadata": {
            "tags": []
          },
          "execution_count": 50
        }
      ]
    },
    {
      "cell_type": "markdown",
      "metadata": {
        "id": "02yJEakjdjEA",
        "colab_type": "text"
      },
      "source": [
        "## Additive Smoothing"
      ]
    },
    {
      "cell_type": "markdown",
      "metadata": {
        "id": "gq6-DIgqdjEB",
        "colab_type": "text"
      },
      "source": [
        "## $$P(w_i|w_{i−n+1}, ..., w_{i−2}, w_{i−1}) \\approx \\frac{\\delta + c(w_{i−n+1}, ..., w_{i−2}, w_{i−1}, w_i)}{\\delta\\mid V\\mid + \\sum_{w \\in V} c(w_{i−n+1}, ..., w_{i−2}, w_{i−1}, w)}$$\n"
      ]
    },
    {
      "cell_type": "code",
      "metadata": {
        "id": "4EGUDv9TdjEC",
        "colab_type": "code",
        "colab": {
          "base_uri": "https://localhost:8080/",
          "height": 35
        },
        "outputId": "ad51dbc9-7fae-4a3f-b973-d044b2bdafda"
      },
      "source": [
        "p = train_ngram_lm.get_ngram_prob_additive_smoothing(('.', '<sos>', '<sos>'), delta = 0.5)\n",
        "p"
      ],
      "execution_count": 52,
      "outputs": [
        {
          "output_type": "execute_result",
          "data": {
            "text/plain": [
              "4.806305873305777e-05"
            ]
          },
          "metadata": {
            "tags": []
          },
          "execution_count": 52
        }
      ]
    },
    {
      "cell_type": "code",
      "metadata": {
        "id": "Q4DFUZxYdjEG",
        "colab_type": "code",
        "colab": {
          "base_uri": "https://localhost:8080/",
          "height": 35
        },
        "outputId": "604f864d-06c1-4b3f-b47e-0d442242f785"
      },
      "source": [
        "p = train_ngram_lm.get_ngram_prob_additive_smoothing(('i', 'like', 'pandas'), delta = 0.5)\n",
        "p"
      ],
      "execution_count": 62,
      "outputs": [
        {
          "output_type": "execute_result",
          "data": {
            "text/plain": [
              "4.237647258242224e-05"
            ]
          },
          "metadata": {
            "tags": []
          },
          "execution_count": 62
        }
      ]
    },
    {
      "cell_type": "code",
      "metadata": {
        "id": "6uKbaJH2djEL",
        "colab_type": "code",
        "colab": {
          "base_uri": "https://localhost:8080/",
          "height": 35
        },
        "outputId": "f378c0ad-68cc-41dd-9323-e4ad0a853004"
      },
      "source": [
        "p = train_ngram_lm.get_ngram_prob_additive_smoothing(('i', 'like', 'this'), delta = 0.5)\n",
        "p"
      ],
      "execution_count": 63,
      "outputs": [
        {
          "output_type": "execute_result",
          "data": {
            "text/plain": [
              "0.008093906263242648"
            ]
          },
          "metadata": {
            "tags": []
          },
          "execution_count": 63
        }
      ]
    },
    {
      "cell_type": "code",
      "metadata": {
        "id": "PXmQeLBPdjET",
        "colab_type": "code",
        "colab": {
          "base_uri": "https://localhost:8080/",
          "height": 35
        },
        "outputId": "925e2736-9727-4190-d957-3c4c25852bf5"
      },
      "source": [
        "p = train_ngram_lm.get_ngram_prob_additive_smoothing(('really', 'great', 'price'), delta = 0.5)\n",
        "p"
      ],
      "execution_count": 61,
      "outputs": [
        {
          "output_type": "execute_result",
          "data": {
            "text/plain": [
              "0.00033496028328069673"
            ]
          },
          "metadata": {
            "tags": []
          },
          "execution_count": 61
        }
      ]
    },
    {
      "cell_type": "code",
      "metadata": {
        "id": "atC1E0aWdjEd",
        "colab_type": "code",
        "colab": {
          "base_uri": "https://localhost:8080/",
          "height": 35
        },
        "outputId": "242c53f4-e15a-4b4c-9ceb-b247ebc40212"
      },
      "source": [
        "p = train_ngram_lm.get_ngram_prob_additive_smoothing(('send', 'it', 'back'), delta = 0.5)\n",
        "p"
      ],
      "execution_count": 60,
      "outputs": [
        {
          "output_type": "execute_result",
          "data": {
            "text/plain": [
              "0.0027314548591144336"
            ]
          },
          "metadata": {
            "tags": []
          },
          "execution_count": 60
        }
      ]
    },
    {
      "cell_type": "code",
      "metadata": {
        "id": "H5rzN2MYdjEk",
        "colab_type": "code",
        "colab": {
          "base_uri": "https://localhost:8080/",
          "height": 35
        },
        "outputId": "14c4d7d3-54c7-4eea-f4c3-fb3697fe9488"
      },
      "source": [
        "p = train_ngram_lm.get_ngram_prob_additive_smoothing(('.', '<eos>', '<eos>'), delta = 0.5)\n",
        "p"
      ],
      "execution_count": 53,
      "outputs": [
        {
          "output_type": "execute_result",
          "data": {
            "text/plain": [
              "0.9023954287001069"
            ]
          },
          "metadata": {
            "tags": []
          },
          "execution_count": 53
        }
      ]
    },
    {
      "cell_type": "markdown",
      "metadata": {
        "id": "vBHE7VmodjEp",
        "colab_type": "text"
      },
      "source": [
        "### Changing the Parameter $\\delta$"
      ]
    },
    {
      "cell_type": "code",
      "metadata": {
        "id": "KwRKDDpVdjEr",
        "colab_type": "code",
        "colab": {
          "base_uri": "https://localhost:8080/",
          "height": 35
        },
        "outputId": "da8c425b-9745-455b-93fa-47939edd592b"
      },
      "source": [
        "# small delta --> closer to no smoothing  (1.0)\n",
        "p = train_ngram_lm.get_ngram_prob_additive_smoothing(('.', '<eos>', '<eos>'), delta = 0.1)\n",
        "p"
      ],
      "execution_count": 57,
      "outputs": [
        {
          "output_type": "execute_result",
          "data": {
            "text/plain": [
              "0.9788256343658784"
            ]
          },
          "metadata": {
            "tags": []
          },
          "execution_count": 57
        }
      ]
    },
    {
      "cell_type": "code",
      "metadata": {
        "id": "UgnMbDwNdjEv",
        "colab_type": "code",
        "colab": {
          "base_uri": "https://localhost:8080/",
          "height": 35
        },
        "outputId": "507a5f6c-a5b7-4d77-8161-e11fa0d14ed7"
      },
      "source": [
        "# arge delta --> closer to add-one smoothing (0.58)\n",
        "p = train_ngram_lm.get_ngram_prob_additive_smoothing(('.', '<eos>', '<eos>'), delta = 0.9)\n",
        "p"
      ],
      "execution_count": 59,
      "outputs": [
        {
          "output_type": "execute_result",
          "data": {
            "text/plain": [
              "0.8370371208455323"
            ]
          },
          "metadata": {
            "tags": []
          },
          "execution_count": 59
        }
      ]
    },
    {
      "cell_type": "markdown",
      "metadata": {
        "id": "zwyOVSIVdjE1",
        "colab_type": "text"
      },
      "source": [
        "## Linear Interpolation Smoothing (Jelinek-Mercer)"
      ]
    },
    {
      "cell_type": "markdown",
      "metadata": {
        "id": "MHojDm4DdjE2",
        "colab_type": "text"
      },
      "source": [
        "### $$P(w_i|w_{i−n+1}, ..., w_{i−2}, w_{i−1}) \\approx \\alpha_n P(w_i|w_{i−n+1}, ..., w_{i−2}, w_{i−1}) + (1 - \\alpha_n) P(w|w_{i−n+2}, ..., w_{i−2}, w_{i−1})$$\n"
      ]
    },
    {
      "cell_type": "code",
      "metadata": {
        "id": "Gu12m16ddjE4",
        "colab_type": "code",
        "colab": {
          "base_uri": "https://localhost:8080/",
          "height": 35
        },
        "outputId": "4caf955b-4f3e-4c55-d202-e23cad195597"
      },
      "source": [
        "p = train_ngram_lm.get_ngram_prob_interpolation_smoothing(('.', '<sos>', '<sos>'), alpha = 0.8)\n",
        "p"
      ],
      "execution_count": 56,
      "outputs": [
        {
          "output_type": "execute_result",
          "data": {
            "text/plain": [
              "0.0"
            ]
          },
          "metadata": {
            "tags": []
          },
          "execution_count": 56
        }
      ]
    },
    {
      "cell_type": "code",
      "metadata": {
        "id": "fA-nj4dydjFA",
        "colab_type": "code",
        "colab": {
          "base_uri": "https://localhost:8080/",
          "height": 35
        },
        "outputId": "c2f253cb-ef29-4039-9d7c-4d12ecfed155"
      },
      "source": [
        "p = train_ngram_lm.get_ngram_prob_interpolation_smoothing(('i', 'like', 'pandas'), alpha = 0.8)\n",
        "p"
      ],
      "execution_count": 58,
      "outputs": [
        {
          "output_type": "execute_result",
          "data": {
            "text/plain": [
              "0.0"
            ]
          },
          "metadata": {
            "tags": []
          },
          "execution_count": 58
        }
      ]
    },
    {
      "cell_type": "code",
      "metadata": {
        "id": "8c_71Rd6djFK",
        "colab_type": "code",
        "colab": {
          "base_uri": "https://localhost:8080/",
          "height": 35
        },
        "outputId": "23f58e7c-fc50-48ed-b9d0-829e0ee83926"
      },
      "source": [
        "p = train_ngram_lm.get_ngram_prob_interpolation_smoothing(('i', 'like', 'this'), alpha = 0.8)\n",
        "p"
      ],
      "execution_count": 55,
      "outputs": [
        {
          "output_type": "execute_result",
          "data": {
            "text/plain": [
              "0.054441260744985676"
            ]
          },
          "metadata": {
            "tags": []
          },
          "execution_count": 55
        }
      ]
    },
    {
      "cell_type": "code",
      "metadata": {
        "id": "mR9_27y0djFP",
        "colab_type": "code",
        "colab": {
          "base_uri": "https://localhost:8080/",
          "height": 35
        },
        "outputId": "02e119fa-e686-4c80-cb1a-941cb16caa2a"
      },
      "source": [
        "p = train_ngram_lm.get_ngram_prob_interpolation_smoothing(('really', 'great', 'price'), alpha = 0.8)\n",
        "p"
      ],
      "execution_count": 54,
      "outputs": [
        {
          "output_type": "execute_result",
          "data": {
            "text/plain": [
              "0.052173913043478265"
            ]
          },
          "metadata": {
            "tags": []
          },
          "execution_count": 54
        }
      ]
    },
    {
      "cell_type": "code",
      "metadata": {
        "id": "dK8lnYVOdjFS",
        "colab_type": "code",
        "colab": {
          "base_uri": "https://localhost:8080/",
          "height": 35
        },
        "outputId": "c81c3b34-30f9-4258-d245-7d57b1a4c3aa"
      },
      "source": [
        "p = train_ngram_lm.get_ngram_prob_interpolation_smoothing(('send', 'it', 'back'), alpha = 0.8)\n",
        "p"
      ],
      "execution_count": 66,
      "outputs": [
        {
          "output_type": "execute_result",
          "data": {
            "text/plain": [
              "0.7225806451612904"
            ]
          },
          "metadata": {
            "tags": []
          },
          "execution_count": 66
        }
      ]
    },
    {
      "cell_type": "markdown",
      "metadata": {
        "id": "-bWIN0bDdjFU",
        "colab_type": "text"
      },
      "source": [
        "### Changing the Parameter $\\alpha$"
      ]
    },
    {
      "cell_type": "code",
      "metadata": {
        "id": "xbtx8jQwdjFV",
        "colab_type": "code",
        "colab": {
          "base_uri": "https://localhost:8080/",
          "height": 35
        },
        "outputId": "8f71db33-90f3-4e6c-c342-dbaf8a4045e6"
      },
      "source": [
        "# small delta --> closer to no smoothing  (1.0)\n",
        "p = train_ngram_lm.get_ngram_prob_interpolation_smoothing(('.', '<eos>', '<eos>'), alpha = 0.8)\n",
        "p"
      ],
      "execution_count": 67,
      "outputs": [
        {
          "output_type": "execute_result",
          "data": {
            "text/plain": [
              "0.8"
            ]
          },
          "metadata": {
            "tags": []
          },
          "execution_count": 67
        }
      ]
    },
    {
      "cell_type": "code",
      "metadata": {
        "id": "mJ-6hj5WdjFZ",
        "colab_type": "code",
        "colab": {
          "base_uri": "https://localhost:8080/",
          "height": 35
        },
        "outputId": "2e96065b-dee4-48ee-e0b4-e93a58eaba75"
      },
      "source": [
        "# small delta --> closer to no smoothing  (1.0)\n",
        "p = train_ngram_lm.get_ngram_prob_interpolation_smoothing(('.', '<eos>', '<eos>'), alpha = 0.5)\n",
        "p"
      ],
      "execution_count": 68,
      "outputs": [
        {
          "output_type": "execute_result",
          "data": {
            "text/plain": [
              "0.5"
            ]
          },
          "metadata": {
            "tags": []
          },
          "execution_count": 68
        }
      ]
    },
    {
      "cell_type": "code",
      "metadata": {
        "id": "ojvd5opOdjFc",
        "colab_type": "code",
        "colab": {
          "base_uri": "https://localhost:8080/",
          "height": 35
        },
        "outputId": "6a21ac7d-6871-444d-b5cd-7fdd4bff3ba5"
      },
      "source": [
        "# small delta --> closer to no smoothing  (1.0)\n",
        "p = train_ngram_lm.get_ngram_prob_interpolation_smoothing(('.', '<eos>', '<eos>'), alpha = 0.2)\n",
        "p"
      ],
      "execution_count": 69,
      "outputs": [
        {
          "output_type": "execute_result",
          "data": {
            "text/plain": [
              "0.2"
            ]
          },
          "metadata": {
            "tags": []
          },
          "execution_count": 69
        }
      ]
    },
    {
      "cell_type": "markdown",
      "metadata": {
        "id": "xVhjNbfQdjFh",
        "colab_type": "text"
      },
      "source": [
        "## Linear Interpolation with Absolute Discounting"
      ]
    },
    {
      "cell_type": "markdown",
      "metadata": {
        "id": "GhHWK8UQdjFi",
        "colab_type": "text"
      },
      "source": [
        "### $$p_{bi}(w|v) = max ({ \\frac{N(v, w) - b_{bi}}{N(v)}, 0)  + b_{bi} \\frac{V - N_0(v, \\cdot)}{N(v)} p_{uni}(w) \\large}$$\n",
        "\n",
        "### $$p_{uni}(w) = max ({ \\frac{N(w) - b_{uni}}{N}, 0)  + b_{uni} \\frac{V - N_0(\\cdot)}{N} \\frac{1}{V}}$$\n",
        "\n",
        "### $$b_{bi} = \\frac{N_1(\\cdot, \\cdot)}{N_1(\\cdot, \\cdot) + 2*N_2(\\cdot, \\cdot)}$$\n",
        "\n",
        "### $$b_{uni} = \\frac{N_1(\\cdot)}{N_1(\\cdot) + 2*N_2(\\cdot)}$$\n",
        "\n",
        "\n",
        "### $$N_r(\\cdot) = \\sum_{w: N(w) = r} 1$$\n",
        "\n",
        "### $$N_r(\\cdot, \\cdot) = \\sum_{v, w: N(v, w) = r} 1$$\n",
        "\n",
        "### $$N_r(v, \\cdot) = \\sum_{w: N(v, w) = r} 1$$\n",
        "\n",
        "### V is the number of words in the vocabulary\n",
        "\n",
        "### $N_r(\\cdot, \\cdot)$ and $N_r(\\cdot)$  are the count-counts for bigrams and unigrams respectively $\n"
      ]
    },
    {
      "cell_type": "markdown",
      "metadata": {
        "id": "ukOamJGDdjFj",
        "colab_type": "text"
      },
      "source": [
        "### Remember to check that probabilities sum up to one:\n",
        "### $$\\sum_w p_{bi}(w|v) = \\sum_w p_{uni}(w) = 1$$\n",
        "\n"
      ]
    },
    {
      "cell_type": "code",
      "metadata": {
        "id": "msboRMuGdjFk",
        "colab_type": "code",
        "colab": {}
      },
      "source": [
        "# y = \"m\"\n",
        "# x = \"'\"\n",
        "\n",
        "# z = train_ngram_lm.get_p_bi(y, x)\n",
        "# z"
      ],
      "execution_count": 0,
      "outputs": []
    },
    {
      "cell_type": "code",
      "metadata": {
        "id": "q7mFlXs1djFn",
        "colab_type": "code",
        "colab": {
          "base_uri": "https://localhost:8080/",
          "height": 864
        },
        "outputId": "f458f213-2f79-497a-9f10-348e432d5af0"
      },
      "source": [
        "train_ngram[:3]"
      ],
      "execution_count": 71,
      "outputs": [
        {
          "output_type": "execute_result",
          "data": {
            "text/plain": [
              "[[('<sos>', '<sos>', 'this'),\n",
              "  ('<sos>', 'this', 'is'),\n",
              "  ('this', 'is', 'a'),\n",
              "  ('is', 'a', 'great'),\n",
              "  ('a', 'great', 'tutu'),\n",
              "  ('great', 'tutu', 'and'),\n",
              "  ('tutu', 'and', 'at'),\n",
              "  ('and', 'at', 'a'),\n",
              "  ('at', 'a', 'really'),\n",
              "  ('a', 'really', 'great'),\n",
              "  ('really', 'great', 'price'),\n",
              "  ('great', 'price', '.'),\n",
              "  ('price', '.', '<eos>'),\n",
              "  ('.', '<eos>', '<eos>')],\n",
              " [('<sos>', '<sos>', 'it'),\n",
              "  ('<sos>', 'it', 'doesn'),\n",
              "  ('it', 'doesn', \"'\"),\n",
              "  ('doesn', \"'\", 't'),\n",
              "  (\"'\", 't', 'look'),\n",
              "  ('t', 'look', 'cheap'),\n",
              "  ('look', 'cheap', 'at'),\n",
              "  ('cheap', 'at', 'all'),\n",
              "  ('at', 'all', '.'),\n",
              "  ('all', '.', '<eos>'),\n",
              "  ('.', '<eos>', '<eos>')],\n",
              " [('<sos>', '<sos>', 'i'),\n",
              "  ('<sos>', 'i', \"'\"),\n",
              "  ('i', \"'\", 'm'),\n",
              "  (\"'\", 'm', 'so'),\n",
              "  ('m', 'so', 'glad'),\n",
              "  ('so', 'glad', 'i'),\n",
              "  ('glad', 'i', 'looked'),\n",
              "  ('i', 'looked', 'on'),\n",
              "  ('looked', 'on', 'amazon'),\n",
              "  ('on', 'amazon', 'and'),\n",
              "  ('amazon', 'and', 'found'),\n",
              "  ('and', 'found', 'such'),\n",
              "  ('found', 'such', 'an'),\n",
              "  ('such', 'an', 'affordable'),\n",
              "  ('an', 'affordable', 'tutu'),\n",
              "  ('affordable', 'tutu', 'that'),\n",
              "  ('tutu', 'that', 'isn'),\n",
              "  ('that', 'isn', \"'\"),\n",
              "  ('isn', \"'\", 't'),\n",
              "  (\"'\", 't', 'made'),\n",
              "  ('t', 'made', 'poorly'),\n",
              "  ('made', 'poorly', '.'),\n",
              "  ('poorly', '.', '<eos>'),\n",
              "  ('.', '<eos>', '<eos>')]]"
            ]
          },
          "metadata": {
            "tags": []
          },
          "execution_count": 71
        }
      ]
    },
    {
      "cell_type": "markdown",
      "metadata": {
        "id": "aU3dGDhvdjFr",
        "colab_type": "text"
      },
      "source": [
        "## Kneser-Ney Smoothing (best to use in practice!) http://smithamilli.com/blog/kneser-ney/"
      ]
    },
    {
      "cell_type": "markdown",
      "metadata": {
        "id": "iOIJ57c1djFt",
        "colab_type": "text"
      },
      "source": [
        "### Bigram LM\n",
        "###  $$p(s) = \\prod_{i = 1} ^ {N + 1} p(w_i | w_{i-1})$$"
      ]
    },
    {
      "cell_type": "markdown",
      "metadata": {
        "id": "mexY1DDedjFu",
        "colab_type": "text"
      },
      "source": [
        "## Likelihood of a Sentence"
      ]
    },
    {
      "cell_type": "markdown",
      "metadata": {
        "id": "FWTNjYEndjFv",
        "colab_type": "text"
      },
      "source": [
        "### Bigram LM: $$ p(i \\; love \\; this \\; light) = p(i|\\cdot) \\; p(love|i)\\;  p(this|love)\\;  p(light|this) \\\\\n",
        "\\approx \\frac{c(i, \\cdot)}{\\sum_w c(\\cdot, \\; w)} \\; \\frac{c(love, i)}{\\sum_wc(i, \\; w)}\\;  \\frac{c(this, love)}{\\sum_wc(love, \\;w)}\\;  \\frac{c(light, this)}{\\sum_wc(this, \\;w)}$$ \n",
        "\n",
        "### Trigram LM: $$ p(i \\; love \\; this  \\;light) = p(i|\\cdot, \\cdot) \\; p(love|\\cdot, i) \\; p(this|i, love)\\;  p(light|love, this)$$ \n",
        "\n"
      ]
    },
    {
      "cell_type": "markdown",
      "metadata": {
        "id": "UxkwliuodjFw",
        "colab_type": "text"
      },
      "source": [
        "### Score Sentences"
      ]
    },
    {
      "cell_type": "code",
      "metadata": {
        "id": "G-ychvcedjF2",
        "colab_type": "code",
        "colab": {
          "base_uri": "https://localhost:8080/",
          "height": 52
        },
        "outputId": "da9b4502-5b75-42f0-cf7f-dc31bc704be2"
      },
      "source": [
        "n = 3\n",
        "sentence = [['this', 'is', 'a', 'great', 'tutu']]\n",
        "print(sentence)\n",
        "ps = train_ngram_lm.get_prob_sentence(sentence)\n",
        "ss =  train_ngram_lm.get_score_sentence(sentence)\n",
        "ps, ss"
      ],
      "execution_count": 72,
      "outputs": [
        {
          "output_type": "stream",
          "text": [
            "[['this', 'is', 'a', 'great', 'tutu']]\n"
          ],
          "name": "stdout"
        },
        {
          "output_type": "execute_result",
          "data": {
            "text/plain": [
              "(0.0, 5.127565397867753e+77)"
            ]
          },
          "metadata": {
            "tags": []
          },
          "execution_count": 72
        }
      ]
    },
    {
      "cell_type": "code",
      "metadata": {
        "id": "ou1YiQ7NdjF5",
        "colab_type": "code",
        "colab": {
          "base_uri": "https://localhost:8080/",
          "height": 52
        },
        "outputId": "5b90eeb3-7453-4c6e-aa7f-04324bb40c5c"
      },
      "source": [
        "n = 3\n",
        "sentence = [['this', 'is', 'a', 'great', 'tutu', 'and', 'at', 'a', 'really', 'great', 'price', '.']]\n",
        "print(sentence)\n",
        "ps = train_ngram_lm.get_prob_sentence(sentence)\n",
        "ss = train_ngram_lm.get_score_sentence(sentence)\n",
        "ps, ss"
      ],
      "execution_count": 73,
      "outputs": [
        {
          "output_type": "stream",
          "text": [
            "[['this', 'is', 'a', 'great', 'tutu', 'and', 'at', 'a', 'really', 'great', 'price', '.']]\n"
          ],
          "name": "stdout"
        },
        {
          "output_type": "execute_result",
          "data": {
            "text/plain": [
              "(4.2919413175965264e-13, 6.675591427844734)"
            ]
          },
          "metadata": {
            "tags": []
          },
          "execution_count": 73
        }
      ]
    },
    {
      "cell_type": "markdown",
      "metadata": {
        "id": "Eh3r0dmFdjGB",
        "colab_type": "text"
      },
      "source": [
        "## Sentence Generation"
      ]
    },
    {
      "cell_type": "markdown",
      "metadata": {
        "id": "Gc7u0PTedjGB",
        "colab_type": "text"
      },
      "source": [
        "#### No Context"
      ]
    },
    {
      "cell_type": "code",
      "metadata": {
        "id": "R-zfW8YxdjGC",
        "colab_type": "code",
        "colab": {
          "base_uri": "https://localhost:8080/",
          "height": 121
        },
        "outputId": "f75211da-f52d-4a30-db30-912c41f481fe"
      },
      "source": [
        "num_tokens = 5\n",
        "generated_sentence = train_ngram_lm.generate_sentence(num_tokens)\n",
        "generated_sentence\n"
      ],
      "execution_count": 74,
      "outputs": [
        {
          "output_type": "stream",
          "text": [
            "it\n",
            "it is\n",
            "it is so\n",
            "it is so thin\n",
            "it is so thin .\n"
          ],
          "name": "stdout"
        },
        {
          "output_type": "execute_result",
          "data": {
            "text/plain": [
              "'it is so thin .'"
            ]
          },
          "metadata": {
            "tags": []
          },
          "execution_count": 74
        }
      ]
    },
    {
      "cell_type": "code",
      "metadata": {
        "id": "SPBXg8Q5djGH",
        "colab_type": "code",
        "colab": {
          "base_uri": "https://localhost:8080/",
          "height": 104
        },
        "outputId": "05b82a35-111d-4287-8c33-8c5f502317ab"
      },
      "source": [
        "num_tokens = 10\n",
        "generated_sentence = train_ngram_lm.generate_sentence(num_tokens, context=('i', 'like', 'the'))\n",
        "generated_sentence\n"
      ],
      "execution_count": 75,
      "outputs": [
        {
          "output_type": "stream",
          "text": [
            "wider\n",
            "wider side\n",
            "wider side .\n",
            "wider side . <eos>\n"
          ],
          "name": "stdout"
        },
        {
          "output_type": "execute_result",
          "data": {
            "text/plain": [
              "'wider side . <eos>'"
            ]
          },
          "metadata": {
            "tags": []
          },
          "execution_count": 75
        }
      ]
    },
    {
      "cell_type": "code",
      "metadata": {
        "id": "tobGWzCOdjGM",
        "colab_type": "code",
        "colab": {
          "base_uri": "https://localhost:8080/",
          "height": 207
        },
        "outputId": "4cb988ae-c0a7-4b73-f7ca-e395dbcddbc9"
      },
      "source": [
        "num_tokens = 20\n",
        "generated_sentence = train_ngram_lm.generate_sentence(num_tokens)\n",
        "generated_sentence\n"
      ],
      "execution_count": 76,
      "outputs": [
        {
          "output_type": "stream",
          "text": [
            "out\n",
            "out of\n",
            "out of the\n",
            "out of the stitching\n",
            "out of the stitching that\n",
            "out of the stitching that came\n",
            "out of the stitching that came with\n",
            "out of the stitching that came with them\n",
            "out of the stitching that came with them .\n",
            "out of the stitching that came with them . <eos>\n"
          ],
          "name": "stdout"
        },
        {
          "output_type": "execute_result",
          "data": {
            "text/plain": [
              "'out of the stitching that came with them . <eos>'"
            ]
          },
          "metadata": {
            "tags": []
          },
          "execution_count": 76
        }
      ]
    },
    {
      "cell_type": "markdown",
      "metadata": {
        "id": "Jgk1iYPPdjGS",
        "colab_type": "text"
      },
      "source": [
        "#### With Context"
      ]
    },
    {
      "cell_type": "code",
      "metadata": {
        "id": "JW914GF5djGS",
        "colab_type": "code",
        "colab": {
          "base_uri": "https://localhost:8080/",
          "height": 121
        },
        "outputId": "9cb3bc84-e017-41b3-d494-e704cd21a198"
      },
      "source": [
        "num_tokens = 5\n",
        "generated_sentence = train_ngram_lm.generate_sentence(num_tokens, context=('i', 'like', 'the'))\n",
        "generated_sentence\n"
      ],
      "execution_count": 77,
      "outputs": [
        {
          "output_type": "stream",
          "text": [
            "style\n",
            "style i\n",
            "style i wore\n",
            "style i wore the\n",
            "style i wore the shawl\n"
          ],
          "name": "stdout"
        },
        {
          "output_type": "execute_result",
          "data": {
            "text/plain": [
              "'style i wore the shawl'"
            ]
          },
          "metadata": {
            "tags": []
          },
          "execution_count": 77
        }
      ]
    },
    {
      "cell_type": "code",
      "metadata": {
        "id": "sL9u2zTudjGV",
        "colab_type": "code",
        "colab": {
          "base_uri": "https://localhost:8080/",
          "height": 86
        },
        "outputId": "20262343-a43e-48c4-a198-9615605108fc"
      },
      "source": [
        "num_tokens = 10\n",
        "generated_sentence = train_ngram_lm.generate_sentence(num_tokens, context=('i', 'like', 'the'))\n",
        "generated_sentence\n"
      ],
      "execution_count": 78,
      "outputs": [
        {
          "output_type": "stream",
          "text": [
            "front\n",
            "front .\n",
            "front . <eos>\n"
          ],
          "name": "stdout"
        },
        {
          "output_type": "execute_result",
          "data": {
            "text/plain": [
              "'front . <eos>'"
            ]
          },
          "metadata": {
            "tags": []
          },
          "execution_count": 78
        }
      ]
    },
    {
      "cell_type": "code",
      "metadata": {
        "id": "QUaruew5djGZ",
        "colab_type": "code",
        "colab": {
          "base_uri": "https://localhost:8080/",
          "height": 294
        },
        "outputId": "621acaac-28a9-49ce-e4a8-1eb2543d03ea"
      },
      "source": [
        "num_tokens = 20\n",
        "generated_sentence = train_ngram_lm.generate_sentence(num_tokens, context=('i', 'like', 'the'))\n",
        "generated_sentence\n"
      ],
      "execution_count": 79,
      "outputs": [
        {
          "output_type": "stream",
          "text": [
            "ones\n",
            "ones with\n",
            "ones with wire\n",
            "ones with wire ,\n",
            "ones with wire , light\n",
            "ones with wire , light weight\n",
            "ones with wire , light weight cotton\n",
            "ones with wire , light weight cotton shirt\n",
            "ones with wire , light weight cotton shirt but\n",
            "ones with wire , light weight cotton shirt but this\n",
            "ones with wire , light weight cotton shirt but this great\n",
            "ones with wire , light weight cotton shirt but this great product\n",
            "ones with wire , light weight cotton shirt but this great product .\n",
            "ones with wire , light weight cotton shirt but this great product . .\n",
            "ones with wire , light weight cotton shirt but this great product . . <eos>\n"
          ],
          "name": "stdout"
        },
        {
          "output_type": "execute_result",
          "data": {
            "text/plain": [
              "'ones with wire , light weight cotton shirt but this great product . . <eos>'"
            ]
          },
          "metadata": {
            "tags": []
          },
          "execution_count": 79
        }
      ]
    },
    {
      "cell_type": "code",
      "metadata": {
        "id": "phekgfUxdjGd",
        "colab_type": "code",
        "colab": {
          "base_uri": "https://localhost:8080/",
          "height": 121
        },
        "outputId": "8ff4e58f-3093-4559-8eba-2fdb5def4094"
      },
      "source": [
        "num_tokens = 10\n",
        "generated_sentence = train_ngram_lm.generate_sentence(num_tokens, context=('the', 'worst'))\n",
        "generated_sentence\n"
      ],
      "execution_count": 80,
      "outputs": [
        {
          "output_type": "stream",
          "text": [
            "timex\n",
            "timex i\n",
            "timex i own\n",
            "timex i own .\n",
            "timex i own . <eos>\n"
          ],
          "name": "stdout"
        },
        {
          "output_type": "execute_result",
          "data": {
            "text/plain": [
              "'timex i own . <eos>'"
            ]
          },
          "metadata": {
            "tags": []
          },
          "execution_count": 80
        }
      ]
    },
    {
      "cell_type": "code",
      "metadata": {
        "id": "70ziM1QYdjGf",
        "colab_type": "code",
        "colab": {
          "base_uri": "https://localhost:8080/",
          "height": 121
        },
        "outputId": "14b0370a-ccc2-43d7-abfa-4442cc12cd6e"
      },
      "source": [
        "num_tokens = 5\n",
        "generated_sentence = train_ngram_lm.generate_sentence(num_tokens, context=('the', 'best'))\n",
        "generated_sentence\n"
      ],
      "execution_count": 81,
      "outputs": [
        {
          "output_type": "stream",
          "text": [
            "shoe\n",
            "shoe i\n",
            "shoe i '\n",
            "shoe i ' ve\n",
            "shoe i ' ve heard\n"
          ],
          "name": "stdout"
        },
        {
          "output_type": "execute_result",
          "data": {
            "text/plain": [
              "\"shoe i ' ve heard\""
            ]
          },
          "metadata": {
            "tags": []
          },
          "execution_count": 81
        }
      ]
    },
    {
      "cell_type": "code",
      "metadata": {
        "id": "yORVOmswdjGk",
        "colab_type": "code",
        "colab": {
          "base_uri": "https://localhost:8080/",
          "height": 121
        },
        "outputId": "ba7efe52-214f-4e6c-bc9b-ad54ccb5a575"
      },
      "source": [
        "num_tokens = 5\n",
        "generated_sentence = train_ngram_lm.generate_sentence(num_tokens, context=('not', 'what'))\n",
        "generated_sentence\n"
      ],
      "execution_count": 82,
      "outputs": [
        {
          "output_type": "stream",
          "text": [
            "they\n",
            "they are\n",
            "they are smaller\n",
            "they are smaller than\n",
            "they are smaller than ugg\n"
          ],
          "name": "stdout"
        },
        {
          "output_type": "execute_result",
          "data": {
            "text/plain": [
              "'they are smaller than ugg'"
            ]
          },
          "metadata": {
            "tags": []
          },
          "execution_count": 82
        }
      ]
    },
    {
      "cell_type": "code",
      "metadata": {
        "id": "yCjQwlZgdjGp",
        "colab_type": "code",
        "colab": {
          "base_uri": "https://localhost:8080/",
          "height": 121
        },
        "outputId": "eda4b7d2-03c1-49b0-a53e-76b265993a42"
      },
      "source": [
        "num_tokens = 5\n",
        "generated_sentence = train_ngram_lm.generate_sentence(num_tokens, context=('i', 'will'))\n",
        "generated_sentence\n"
      ],
      "execution_count": 83,
      "outputs": [
        {
          "output_type": "stream",
          "text": [
            "purchase\n",
            "purchase another\n",
            "purchase another two\n",
            "purchase another two pairs\n",
            "purchase another two pairs of\n"
          ],
          "name": "stdout"
        },
        {
          "output_type": "execute_result",
          "data": {
            "text/plain": [
              "'purchase another two pairs of'"
            ]
          },
          "metadata": {
            "tags": []
          },
          "execution_count": 83
        }
      ]
    },
    {
      "cell_type": "markdown",
      "metadata": {
        "id": "bf86hkbOdjGu",
        "colab_type": "text"
      },
      "source": [
        "## Log-Likelihood (n-gram)\n",
        "## $$LL = \\sum_{j=1}^{K} \\sum_{i=1}^{T_j + 1} log p_{bi}(w_{j, i} | w_{j, n - i + 1}, \\cdot, w_{j, i - 2}, w_{j, i - 1})$$"
      ]
    },
    {
      "cell_type": "markdown",
      "metadata": {
        "id": "En5Q53IydjG4",
        "colab_type": "text"
      },
      "source": [
        "## Perplexity\n",
        "## $$PP = exp(-\\frac{LL}{\\sum_j(T_j + 1)})$$"
      ]
    },
    {
      "cell_type": "code",
      "metadata": {
        "id": "wJ8kPEaadjG4",
        "colab_type": "code",
        "colab": {}
      },
      "source": [
        "ppl_train = train_ngram_lm.get_perplexity(train_data_tokenized, subsample=10)\n",
        "ppl_valid = train_ngram_lm.get_perplexity(valid_data_tokenized, subsample=10)\n"
      ],
      "execution_count": 0,
      "outputs": []
    },
    {
      "cell_type": "code",
      "metadata": {
        "id": "GmrH0crrdjG8",
        "colab_type": "code",
        "colab": {
          "base_uri": "https://localhost:8080/",
          "height": 35
        },
        "outputId": "aa3bb67e-2387-4e82-c0b9-c150fa9c18fa"
      },
      "source": [
        "ppl_valid, ppl_train"
      ],
      "execution_count": 85,
      "outputs": [
        {
          "output_type": "execute_result",
          "data": {
            "text/plain": [
              "(1.054956118557522e+16, 785.4807625424293)"
            ]
          },
          "metadata": {
            "tags": []
          },
          "execution_count": 85
        }
      ]
    },
    {
      "cell_type": "markdown",
      "metadata": {
        "id": "rzV0AtlFdjHA",
        "colab_type": "text"
      },
      "source": [
        "### Interpolation Smoothing - varying N"
      ]
    },
    {
      "cell_type": "code",
      "metadata": {
        "id": "zBvKdO4edjHB",
        "colab_type": "code",
        "colab": {
          "base_uri": "https://localhost:8080/",
          "height": 35
        },
        "outputId": "1be26cc3-186a-4fc1-d821-ef2dd3895379"
      },
      "source": [
        "# Interpolation Smoothing, N = 2\n",
        "train_ngram_lm_interp2 = NgramLM(train_data_tokenized, all_tokens_train, n=2, smoothing='interpolation')\n",
        "valid_ngram_lm_interp2 = NgramLM(valid_data_tokenized, all_tokens_valid, n=2, smoothing='interpolation')\n",
        "\n",
        "ppl_train_no_interp2 = train_ngram_lm_interp2.get_perplexity(train_data_tokenized, subsample=10)\n",
        "ppl_valid_no_interp2 = train_ngram_lm_interp2.get_perplexity(valid_data_tokenized, subsample=10)\n",
        "\n",
        "ppl_valid_no_interp2, ppl_train_no_interp2\n"
      ],
      "execution_count": 86,
      "outputs": [
        {
          "output_type": "execute_result",
          "data": {
            "text/plain": [
              "(3198493286877.7236, 1789.0177288795328)"
            ]
          },
          "metadata": {
            "tags": []
          },
          "execution_count": 86
        }
      ]
    },
    {
      "cell_type": "code",
      "metadata": {
        "id": "aocVRZ4ydjHE",
        "colab_type": "code",
        "colab": {
          "base_uri": "https://localhost:8080/",
          "height": 35
        },
        "outputId": "8d759ebb-d163-4cb4-9e6c-a7b78405baca"
      },
      "source": [
        "# Interpolation Smoothing, N = 3\n",
        "train_ngram_lm_interp3 = NgramLM(train_data_tokenized, all_tokens_train, n=3, smoothing='interpolation')\n",
        "valid_ngram_lm_interp3 = NgramLM(valid_data_tokenized, all_tokens_valid, n=3, smoothing='interpolation')\n",
        "\n",
        "ppl_train_no_interp3 = train_ngram_lm_interp3.get_perplexity(train_data_tokenized, subsample=10)\n",
        "ppl_valid_no_interp3 = train_ngram_lm_interp3.get_perplexity(valid_data_tokenized, subsample=10)\n",
        "\n",
        "ppl_valid_no_interp3, ppl_train_no_interp3\n"
      ],
      "execution_count": 87,
      "outputs": [
        {
          "output_type": "execute_result",
          "data": {
            "text/plain": [
              "(1.0631495430720946e+16, 867.0818779231803)"
            ]
          },
          "metadata": {
            "tags": []
          },
          "execution_count": 87
        }
      ]
    },
    {
      "cell_type": "code",
      "metadata": {
        "id": "u9qj1HqvdjHG",
        "colab_type": "code",
        "colab": {
          "base_uri": "https://localhost:8080/",
          "height": 35
        },
        "outputId": "7449c887-84a5-4905-eb55-3faf5ed91428"
      },
      "source": [
        "# Interpolation Smoothing, N = 5\n",
        "train_ngram_lm_interp5 = NgramLM(train_data_tokenized, all_tokens_train, n=5, smoothing='interpolation')\n",
        "valid_ngram_lm_interp5 = NgramLM(valid_data_tokenized, all_tokens_valid, n=5, smoothing='interpolation')\n",
        "\n",
        "ppl_train_no_interp5 = train_ngram_lm_interp5.get_perplexity(train_data_tokenized, subsample=10)\n",
        "ppl_valid_no_interp5 = train_ngram_lm_interp5.get_perplexity(valid_data_tokenized, subsample=10)\n",
        "\n",
        "ppl_valid_no_interp5, ppl_train_no_interp5\n"
      ],
      "execution_count": 88,
      "outputs": [
        {
          "output_type": "execute_result",
          "data": {
            "text/plain": [
              "(2.0922682216093802e+17, 205.1885172883371)"
            ]
          },
          "metadata": {
            "tags": []
          },
          "execution_count": 88
        }
      ]
    },
    {
      "cell_type": "code",
      "metadata": {
        "id": "zkH5iVTVdjHI",
        "colab_type": "code",
        "colab": {}
      },
      "source": [
        "# Interpolation Smoothing, N = 7\n",
        "train_ngram_lm_interp7 = NgramLM(train_data_tokenized, all_tokens_train, n=7, smoothing='interpolation')\n",
        "valid_ngram_lm_interp7 = NgramLM(valid_data_tokenized, all_tokens_valid, n=7, smoothing='interpolation')\n",
        "\n",
        "ppl_train_no_interp7 = train_ngram_lm_interp7.get_perplexity(train_data_tokenized, subsample=10)\n",
        "ppl_valid_no_interp7 = train_ngram_lm_interp7.get_perplexity(valid_data_tokenized, subsample=10)\n",
        "\n",
        "ppl_valid_no_interp7, ppl_train_no_interp7\n"
      ],
      "execution_count": 0,
      "outputs": []
    },
    {
      "cell_type": "code",
      "metadata": {
        "id": "MNGWbeW3djHM",
        "colab_type": "code",
        "colab": {}
      },
      "source": [
        "# Interpolation Smoothing, N = 10\n",
        "train_ngram_lm_interp10 = NgramLM(train_data_tokenized, all_tokens_train, n=10, smoothing='interpolation')\n",
        "valid_ngram_lm_interp10 = NgramLM(valid_data_tokenized, all_tokens_valid, n=10, smoothing='interpolation')\n",
        "\n",
        "ppl_train_no_interp10 = train_ngram_lm_interp10.get_perplexity(train_data_tokenized, subsample=10)\n",
        "ppl_valid_no_interp10 = train_ngram_lm_interp10.get_perplexity(valid_data_tokenized, subsample=10)\n",
        "\n",
        "ppl_valid_no_interp10, ppl_train_no_interp10\n"
      ],
      "execution_count": 0,
      "outputs": []
    },
    {
      "cell_type": "markdown",
      "metadata": {
        "id": "LWCUgouvdjHO",
        "colab_type": "text"
      },
      "source": [
        "### Let's Compare Different Smoothing Techniques"
      ]
    },
    {
      "cell_type": "code",
      "metadata": {
        "id": "r1LVH_Z_djHP",
        "colab_type": "code",
        "colab": {}
      },
      "source": [
        "# No Smoothing\n",
        "train_ngram_lm_no_smoothing = NgramLM(train_data_tokenized, all_tokens_train, n=7)\n",
        "valid_ngram_lm_no_smoothing = NgramLM(valid_data_tokenized, all_tokens_valid, n=7)\n",
        "\n",
        "ppl_train_no_smoothing = train_ngram_lm_no_smoothing.get_perplexity(train_data_tokenized, subsample=10)\n",
        "ppl_valid_no_smoothing = train_ngram_lm_no_smoothing.get_perplexity(valid_data_tokenized, subsample=10)\n",
        "\n",
        "ppl_valid_no_smoothing, ppl_train_no_smoothing\n"
      ],
      "execution_count": 0,
      "outputs": []
    },
    {
      "cell_type": "code",
      "metadata": {
        "id": "_wb2HE25djHT",
        "colab_type": "code",
        "colab": {}
      },
      "source": [
        "# Additive Smoothing\n",
        "train_ngram_lm_additive = NgramLM(train_data_tokenized, all_tokens_train, n=7, smoothing='additive', delta=0.5)\n",
        "valid_ngram_lm_additive = NgramLM(valid_data_tokenized, all_tokens_valid, n=7, smoothing='additive', delta=0.5)\n",
        "\n",
        "ppl_train_no_additive = train_ngram_lm_additive.get_perplexity(train_data_tokenized, subsample=10)\n",
        "ppl_valid_no_additive = train_ngram_lm_additive.get_perplexity(valid_data_tokenized, subsample=10)\n",
        "\n",
        "ppl_valid_no_additive, ppl_train_no_additive\n"
      ],
      "execution_count": 0,
      "outputs": []
    },
    {
      "cell_type": "code",
      "metadata": {
        "id": "0i0IPMGydjHW",
        "colab_type": "code",
        "colab": {}
      },
      "source": [
        "# Additive Smoothing\n",
        "train_ngram_lm_additive_d2 = NgramLM(train_data_tokenized, all_tokens_train, n=7, smoothing='additive', delta=0.2)\n",
        "valid_ngram_lm_additive_d2 = NgramLM(valid_data_tokenized, all_tokens_valid, n=7, smoothing='additive', delta=0.2)\n",
        "\n",
        "ppl_train_no_additive_d2 = train_ngram_lm_additive_d2.get_perplexity(train_data_tokenized, subsample=10)\n",
        "ppl_valid_no_additive_d2 = train_ngram_lm_additive_d2.get_perplexity(valid_data_tokenized, subsample=10)\n",
        "\n",
        "ppl_valid_no_additive_d2, ppl_train_no_additive_d2\n"
      ],
      "execution_count": 0,
      "outputs": []
    },
    {
      "cell_type": "code",
      "metadata": {
        "id": "qapJmUjBdjHa",
        "colab_type": "code",
        "colab": {}
      },
      "source": [
        "# Additive Smoothing\n",
        "train_ngram_lm_additive_d8 = NgramLM(train_data_tokenized, all_tokens_train, n=7, smoothing='additive', delta=0.8)\n",
        "valid_ngram_lm_additive_d8 = NgramLM(valid_data_tokenized, all_tokens_valid, n=7, smoothing='additive', delta=0.8)\n",
        "\n",
        "ppl_train_no_additive_d8 = train_ngram_lm_additive_d8.get_perplexity(train_data_tokenized, subsample=10)\n",
        "ppl_valid_no_additive_d8 = train_ngram_lm_additive_d8.get_perplexity(valid_data_tokenized, subsample=10)\n",
        "\n",
        "ppl_valid_no_additive_d8, ppl_train_no_additive_d8\n"
      ],
      "execution_count": 0,
      "outputs": []
    },
    {
      "cell_type": "code",
      "metadata": {
        "id": "vDLrtAD2djHh",
        "colab_type": "code",
        "colab": {}
      },
      "source": [
        "# Additive Smoothing\n",
        "train_ngram_lm_add1 = NgramLM(train_data_tokenized, all_tokens_train, n=7, smoothing='add-one')\n",
        "valid_ngram_lm_add1 = NgramLM(valid_data_tokenized, all_tokens_valid, n=7, smoothing='add-one')\n",
        "\n",
        "ppl_train_no_add1 = train_ngram_lm_add1.get_perplexity(train_data_tokenized, subsample=10)\n",
        "ppl_valid_no_add1 = train_ngram_lm_add1.get_perplexity(valid_data_tokenized, subsample=10)\n",
        "\n",
        "ppl_valid_no_add1, ppl_train_no_add1\n"
      ],
      "execution_count": 0,
      "outputs": []
    },
    {
      "cell_type": "code",
      "metadata": {
        "id": "3w3-pLPRdjHm",
        "colab_type": "code",
        "colab": {}
      },
      "source": [
        "# Interpolation Smoothing\n",
        "train_ngram_lm_interp_a2 = NgramLM(train_data_tokenized, all_tokens_train, n=7, smoothing='interpolation', alpha=0.2)\n",
        "valid_ngram_lm_interp_a2 = NgramLM(valid_data_tokenized, all_tokens_valid, n=7, smoothing='interpolation', alpha=0.2)\n",
        "\n",
        "ppl_train_no_interp_a2 = train_ngram_lm_interp_a2.get_perplexity(train_data_tokenized, subsample=10)\n",
        "ppl_valid_no_interp_a2 = train_ngram_lm_interp_a2.get_perplexity(valid_data_tokenized, subsample=10)\n",
        "\n",
        "ppl_valid_no_interp_a2, ppl_train_no_interp_a2\n"
      ],
      "execution_count": 0,
      "outputs": []
    },
    {
      "cell_type": "code",
      "metadata": {
        "id": "eEbNdtd_djHp",
        "colab_type": "code",
        "colab": {}
      },
      "source": [
        "# Interpolation Smoothing\n",
        "train_ngram_lm_interp_a8 = NgramLM(train_data_tokenized, all_tokens_train, n=7, smoothing='interpolation', alpha=0.8)\n",
        "valid_ngram_lm_interp_a8 = NgramLM(valid_data_tokenized, all_tokens_valid, n=7, smoothing='interpolation', alpha=0.8)\n",
        "\n",
        "ppl_train_no_interp_a8 = train_ngram_lm_interp_a8.get_perplexity(train_data_tokenized, subsample=10)\n",
        "ppl_valid_no_interp_a8 = train_ngram_lm_interp_a8.get_perplexity(valid_data_tokenized, subsample=10)\n",
        "\n",
        "ppl_valid_no_interp_a8, ppl_train_no_interp_a8\n"
      ],
      "execution_count": 0,
      "outputs": []
    },
    {
      "cell_type": "code",
      "metadata": {
        "id": "dSHpM2g0djHr",
        "colab_type": "code",
        "colab": {}
      },
      "source": [
        "# Interpolation Smoothing\n",
        "train_ngram_lm_interp_a5 = NgramLM(train_data_tokenized, all_tokens_train, n=7, smoothing='interpolation', alpha=0.5)\n",
        "valid_ngram_lm_interp_a5 = NgramLM(valid_data_tokenized, all_tokens_valid, n=7, smoothing='interpolation', alpha=0.5)\n",
        "\n",
        "ppl_train_no_interp_a5 = train_ngram_lm_interp_a5.get_perplexity(train_data_tokenized, subsample=10)\n",
        "ppl_valid_no_interp_a5 = train_ngram_lm_interp_a5.get_perplexity(valid_data_tokenized, subsample=10)\n",
        "\n",
        "ppl_valid_no_interp_a5, ppl_train_no_interp_a5\n"
      ],
      "execution_count": 0,
      "outputs": []
    },
    {
      "cell_type": "code",
      "metadata": {
        "id": "AflYQcHodjHt",
        "colab_type": "code",
        "colab": {}
      },
      "source": [
        "# # Discounted Interpolation Smoothing\n",
        "# train_ngram_lm_discount = NgramLM(train_data_tokenized, all_tokens_train, n=3, smoothing='discounting')\n",
        "# valid_ngram_lm_discount = NgramLM(valid_data_tokenized, all_tokens_valid, n=3, smoothing='discounting')\n",
        "\n",
        "# ppl_train_no_discount = train_ngram_lm_discount.get_perplexity(train_data_tokenized)\n",
        "# ppl_valid_no_discount = train_ngram_lm_discount.get_perplexity(valid_data_tokenized)\n",
        "\n",
        "# ppl_valid_no_discount, ppl_train_no_discount\n"
      ],
      "execution_count": 0,
      "outputs": []
    },
    {
      "cell_type": "markdown",
      "metadata": {
        "id": "oSLbiNf1djHv",
        "colab_type": "text"
      },
      "source": [
        "### Additive Smoothing - varying N"
      ]
    },
    {
      "cell_type": "markdown",
      "metadata": {
        "id": "FPxvqZCkdjHw",
        "colab_type": "text"
      },
      "source": [
        "### Sentence Probabilities"
      ]
    },
    {
      "cell_type": "code",
      "metadata": {
        "id": "-YMwKy8idjHy",
        "colab_type": "code",
        "colab": {}
      },
      "source": [
        "sentence = [['this', 'is', 'a', 'great', 'tutu']]\n",
        "print(sentence)\n",
        "ps = train_ngram_lm.get_prob_sentence(sentence)\n",
        "ss = train_ngram_lm.get_score_sentence(sentence)\n",
        "ps, ss"
      ],
      "execution_count": 0,
      "outputs": []
    },
    {
      "cell_type": "code",
      "metadata": {
        "id": "b7OD14bxdjH2",
        "colab_type": "code",
        "colab": {}
      },
      "source": [
        "sentence = [['this', 'is', 'a', 'great', 'tutu', 'and', 'at', 'a', 'really', 'great', 'price', '.']]\n",
        "print(sentence)\n",
        "ps = train_ngram_lm_interp3.get_prob_sentence(sentence)\n",
        "ss = train_ngram_lm_interp3.get_score_sentence(sentence)\n",
        "ps, ss"
      ],
      "execution_count": 0,
      "outputs": []
    },
    {
      "cell_type": "code",
      "metadata": {
        "id": "dA5pIlKWdjH4",
        "colab_type": "code",
        "colab": {}
      },
      "source": [
        "sentence = [['this', 'is', 'a', 'great', 'tutu', 'and', 'at', 'a', 'really', 'great', 'price', '.']]\n",
        "print(sentence)\n",
        "ps = train_ngram_lm_interp5.get_prob_sentence(sentence)\n",
        "ss = train_ngram_lm_interp5.get_score_sentence(sentence)\n",
        "ps, ss"
      ],
      "execution_count": 0,
      "outputs": []
    },
    {
      "cell_type": "code",
      "metadata": {
        "id": "x1U4orhzdjH5",
        "colab_type": "code",
        "colab": {}
      },
      "source": [
        "sentence = [['this', 'is', 'a', 'great', 'tutu', 'and', 'at', 'a', 'really', 'great', 'price', '.']]\n",
        "print(sentence)\n",
        "ps = train_ngram_lm_interp7.get_prob_sentence(sentence)\n",
        "ss = train_ngram_lm_interp7.get_score_sentence(sentence)\n",
        "ps, ss"
      ],
      "execution_count": 0,
      "outputs": []
    },
    {
      "cell_type": "code",
      "metadata": {
        "id": "M82TE3X9djH7",
        "colab_type": "code",
        "colab": {}
      },
      "source": [
        "sentence = [['this', 'is', 'a', 'great', 'tutu']]\n",
        "print(sentence)\n",
        "ps = train_ngram_lm_interp10.get_prob_sentence(sentence)\n",
        "ss = train_ngram_lm_interp10.get_score_sentence(sentence)\n",
        "ps, ss"
      ],
      "execution_count": 0,
      "outputs": []
    },
    {
      "cell_type": "code",
      "metadata": {
        "id": "Grc0EuRbdjH-",
        "colab_type": "code",
        "colab": {}
      },
      "source": [
        "sentence = [['this', 'is', 'a', 'great', 'tutu', 'and', 'at', 'a', 'really', 'great', 'price', '.']]\n",
        "print(sentence)\n",
        "ps = train_ngram_lm_additive.get_prob_sentence(sentence)\n",
        "ss = train_ngram_lm_additive.get_score_sentence(sentence)\n",
        "ps, ss"
      ],
      "execution_count": 0,
      "outputs": []
    },
    {
      "cell_type": "code",
      "metadata": {
        "id": "ztQAXAXYdjID",
        "colab_type": "code",
        "colab": {}
      },
      "source": [
        "sentence = [['i', 'like', 'pandas']]\n",
        "print(sentence)\n",
        "ps = train_ngram_lm_additive.get_prob_sentence(sentence)\n",
        "ss = train_ngram_lm_additive.get_score_sentence(sentence)\n",
        "ps, ss"
      ],
      "execution_count": 0,
      "outputs": []
    },
    {
      "cell_type": "code",
      "metadata": {
        "id": "sAsUyH12djIF",
        "colab_type": "code",
        "colab": {}
      },
      "source": [
        "sentence = [['i really like this watch']]\n",
        "print(sentence)\n",
        "ps = train_ngram_lm_additive.get_prob_sentence(sentence)\n",
        "ss = train_ngram_lm_additive.get_score_sentence(sentence)\n",
        "ps, ss"
      ],
      "execution_count": 0,
      "outputs": []
    },
    {
      "cell_type": "code",
      "metadata": {
        "id": "92I54aMgdjII",
        "colab_type": "code",
        "colab": {}
      },
      "source": [
        "sentence = [['my wife really likes the color of this dress']]\n",
        "print(sentence)\n",
        "ps = train_ngram_lm_additive.get_prob_sentence(sentence)\n",
        "ss = train_ngram_lm_additive.get_score_sentence(sentence)\n",
        "ps, ss"
      ],
      "execution_count": 0,
      "outputs": []
    },
    {
      "cell_type": "markdown",
      "metadata": {
        "id": "WPvPwl_JdjIJ",
        "colab_type": "text"
      },
      "source": [
        "### Sentence Generation"
      ]
    },
    {
      "cell_type": "code",
      "metadata": {
        "id": "hG4Qb9HSdjIL",
        "colab_type": "code",
        "colab": {}
      },
      "source": [
        "num_tokens = 10\n",
        "generated_sentence = train_ngram_lm_interp3.generate_sentence(num_tokens)\n",
        "generated_sentence\n"
      ],
      "execution_count": 0,
      "outputs": []
    },
    {
      "cell_type": "code",
      "metadata": {
        "id": "CIuOmuSfdjIO",
        "colab_type": "code",
        "colab": {}
      },
      "source": [
        "num_tokens = 10\n",
        "generated_sentence = train_ngram_lm_interp5.generate_sentence(num_tokens)\n",
        "generated_sentence"
      ],
      "execution_count": 0,
      "outputs": []
    },
    {
      "cell_type": "code",
      "metadata": {
        "id": "vWfN7bpndjIS",
        "colab_type": "code",
        "colab": {}
      },
      "source": [
        "num_tokens = 10\n",
        "generated_sentence = train_ngram_lm_interp7.generate_sentence(num_tokens)\n",
        "generated_sentence\n"
      ],
      "execution_count": 0,
      "outputs": []
    },
    {
      "cell_type": "code",
      "metadata": {
        "id": "QTx4JlZVdjIX",
        "colab_type": "code",
        "colab": {}
      },
      "source": [
        "num_tokens = 10\n",
        "generated_sentence = train_ngram_lm_interp10.generate_sentence(num_tokens)\n",
        "generated_sentence\n"
      ],
      "execution_count": 0,
      "outputs": []
    },
    {
      "cell_type": "code",
      "metadata": {
        "id": "xkLDKmGfdjIZ",
        "colab_type": "code",
        "colab": {}
      },
      "source": [
        "num_tokens = 20\n",
        "generated_sentence = train_ngram_lm_interp10.generate_sentence(num_tokens)\n",
        "generated_sentence\n"
      ],
      "execution_count": 0,
      "outputs": []
    },
    {
      "cell_type": "code",
      "metadata": {
        "id": "IUdUD9APdjIa",
        "colab_type": "code",
        "colab": {}
      },
      "source": [
        "num_tokens = 10\n",
        "generated_sentence = train_ngram_lm_additive.generate_sentence(num_tokens)\n",
        "generated_sentence\n"
      ],
      "execution_count": 0,
      "outputs": []
    },
    {
      "cell_type": "code",
      "metadata": {
        "id": "A8fRJKZUdjIc",
        "colab_type": "code",
        "colab": {}
      },
      "source": [
        "num_tokens = 10\n",
        "generated_sentence = train_ngram_lm_no_smoothing.generate_sentence(num_tokens)\n",
        "generated_sentence\n"
      ],
      "execution_count": 0,
      "outputs": []
    }
  ]
}